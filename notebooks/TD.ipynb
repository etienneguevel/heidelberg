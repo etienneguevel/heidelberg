{
 "cells": [
  {
   "cell_type": "markdown",
   "id": "70ca264c-03ff-47ae-aa2a-887a3c4e74aa",
   "metadata": {},
   "source": [
    "![cell_proportion](./images/cell_proportion.png)"
   ]
  },
  {
   "cell_type": "code",
   "execution_count": null,
   "id": "32e0c714-a46f-4306-b949-f026752e5b86",
   "metadata": {},
   "outputs": [],
   "source": []
  },
  {
   "cell_type": "markdown",
   "id": "c516524e-e542-4874-af96-c19ab0f3b5ec",
   "metadata": {},
   "source": [
    "## Classification\n",
    "\n",
    "Classification is a key task as the relative proportion of the different white blood cells\n",
    "categories indicates the presence or not of a pathology.\n",
    "\n",
    "This part's goal is to leverage an open-source dataset of white blood cells in order to\n",
    "train a Deep Learning model to perform classification."
   ]
  },
  {
   "cell_type": "code",
   "execution_count": 3,
   "id": "37941e35-9244-4f97-b685-9f6af0684493",
   "metadata": {
    "collapsed": true,
    "jupyter": {
     "outputs_hidden": true
    }
   },
   "outputs": [
    {
     "name": "stdout",
     "output_type": "stream",
     "text": [
      "Collecting medmnist\n",
      "  Using cached medmnist-3.0.2-py3-none-any.whl.metadata (14 kB)\n",
      "Requirement already satisfied: numpy in /raid/home/guevel/.conda/envs/cell_sim_bis/lib/python3.10/site-packages (from medmnist) (2.0.2)\n",
      "Requirement already satisfied: pandas in /raid/home/guevel/.conda/envs/cell_sim_bis/lib/python3.10/site-packages (from medmnist) (2.2.3)\n",
      "Collecting scikit-learn (from medmnist)\n",
      "  Using cached scikit_learn-1.6.1-cp310-cp310-manylinux_2_17_x86_64.manylinux2014_x86_64.whl.metadata (18 kB)\n",
      "Collecting scikit-image (from medmnist)\n",
      "  Using cached scikit_image-0.25.2-cp310-cp310-manylinux_2_17_x86_64.manylinux2014_x86_64.whl.metadata (14 kB)\n",
      "Requirement already satisfied: tqdm in /raid/home/guevel/.conda/envs/cell_sim_bis/lib/python3.10/site-packages (from medmnist) (4.67.1)\n",
      "Requirement already satisfied: Pillow in /raid/home/guevel/.conda/envs/cell_sim_bis/lib/python3.10/site-packages (from medmnist) (11.2.1)\n",
      "Collecting fire (from medmnist)\n",
      "  Using cached fire-0.7.0-py3-none-any.whl\n",
      "Requirement already satisfied: torch in /raid/home/guevel/.conda/envs/cell_sim_bis/lib/python3.10/site-packages (from medmnist) (2.3.0+cu118)\n",
      "Requirement already satisfied: torchvision in /raid/home/guevel/.conda/envs/cell_sim_bis/lib/python3.10/site-packages (from medmnist) (0.18.0+cu118)\n",
      "Requirement already satisfied: termcolor in /raid/home/guevel/.conda/envs/cell_sim_bis/lib/python3.10/site-packages (from fire->medmnist) (3.1.0)\n",
      "Requirement already satisfied: python-dateutil>=2.8.2 in /raid/home/guevel/.conda/envs/cell_sim_bis/lib/python3.10/site-packages (from pandas->medmnist) (2.9.0.post0)\n",
      "Requirement already satisfied: pytz>=2020.1 in /raid/home/guevel/.conda/envs/cell_sim_bis/lib/python3.10/site-packages (from pandas->medmnist) (2025.2)\n",
      "Requirement already satisfied: tzdata>=2022.7 in /raid/home/guevel/.conda/envs/cell_sim_bis/lib/python3.10/site-packages (from pandas->medmnist) (2025.2)\n",
      "Requirement already satisfied: six>=1.5 in /raid/home/guevel/.conda/envs/cell_sim_bis/lib/python3.10/site-packages (from python-dateutil>=2.8.2->pandas->medmnist) (1.17.0)\n",
      "Requirement already satisfied: scipy>=1.11.4 in /raid/home/guevel/.conda/envs/cell_sim_bis/lib/python3.10/site-packages (from scikit-image->medmnist) (1.15.3)\n",
      "Requirement already satisfied: networkx>=3.0 in /raid/home/guevel/.conda/envs/cell_sim_bis/lib/python3.10/site-packages (from scikit-image->medmnist) (3.4.2)\n",
      "Collecting imageio!=2.35.0,>=2.33 (from scikit-image->medmnist)\n",
      "  Using cached imageio-2.37.0-py3-none-any.whl.metadata (5.2 kB)\n",
      "Collecting tifffile>=2022.8.12 (from scikit-image->medmnist)\n",
      "  Using cached tifffile-2025.5.10-py3-none-any.whl.metadata (31 kB)\n",
      "Requirement already satisfied: packaging>=21 in /raid/home/guevel/.conda/envs/cell_sim_bis/lib/python3.10/site-packages (from scikit-image->medmnist) (25.0)\n",
      "Collecting lazy-loader>=0.4 (from scikit-image->medmnist)\n",
      "  Using cached lazy_loader-0.4-py3-none-any.whl.metadata (7.6 kB)\n",
      "Requirement already satisfied: joblib>=1.2.0 in /raid/home/guevel/.conda/envs/cell_sim_bis/lib/python3.10/site-packages (from scikit-learn->medmnist) (1.5.1)\n",
      "Collecting threadpoolctl>=3.1.0 (from scikit-learn->medmnist)\n",
      "  Using cached threadpoolctl-3.6.0-py3-none-any.whl.metadata (13 kB)\n",
      "Requirement already satisfied: filelock in /raid/home/guevel/.conda/envs/cell_sim_bis/lib/python3.10/site-packages (from torch->medmnist) (3.18.0)\n",
      "Requirement already satisfied: typing-extensions>=4.8.0 in /raid/home/guevel/.conda/envs/cell_sim_bis/lib/python3.10/site-packages (from torch->medmnist) (4.14.0)\n",
      "Requirement already satisfied: sympy in /raid/home/guevel/.conda/envs/cell_sim_bis/lib/python3.10/site-packages (from torch->medmnist) (1.14.0)\n",
      "Requirement already satisfied: jinja2 in /raid/home/guevel/.conda/envs/cell_sim_bis/lib/python3.10/site-packages (from torch->medmnist) (3.1.6)\n",
      "Requirement already satisfied: fsspec in /raid/home/guevel/.conda/envs/cell_sim_bis/lib/python3.10/site-packages (from torch->medmnist) (2025.5.1)\n",
      "Requirement already satisfied: nvidia-cuda-nvrtc-cu11==11.8.89 in /raid/home/guevel/.conda/envs/cell_sim_bis/lib/python3.10/site-packages (from torch->medmnist) (11.8.89)\n",
      "Requirement already satisfied: nvidia-cuda-runtime-cu11==11.8.89 in /raid/home/guevel/.conda/envs/cell_sim_bis/lib/python3.10/site-packages (from torch->medmnist) (11.8.89)\n",
      "Requirement already satisfied: nvidia-cuda-cupti-cu11==11.8.87 in /raid/home/guevel/.conda/envs/cell_sim_bis/lib/python3.10/site-packages (from torch->medmnist) (11.8.87)\n",
      "Requirement already satisfied: nvidia-cudnn-cu11==8.7.0.84 in /raid/home/guevel/.conda/envs/cell_sim_bis/lib/python3.10/site-packages (from torch->medmnist) (8.7.0.84)\n",
      "Requirement already satisfied: nvidia-cublas-cu11==11.11.3.6 in /raid/home/guevel/.conda/envs/cell_sim_bis/lib/python3.10/site-packages (from torch->medmnist) (11.11.3.6)\n",
      "Requirement already satisfied: nvidia-cufft-cu11==10.9.0.58 in /raid/home/guevel/.conda/envs/cell_sim_bis/lib/python3.10/site-packages (from torch->medmnist) (10.9.0.58)\n",
      "Requirement already satisfied: nvidia-curand-cu11==10.3.0.86 in /raid/home/guevel/.conda/envs/cell_sim_bis/lib/python3.10/site-packages (from torch->medmnist) (10.3.0.86)\n",
      "Requirement already satisfied: nvidia-cusolver-cu11==11.4.1.48 in /raid/home/guevel/.conda/envs/cell_sim_bis/lib/python3.10/site-packages (from torch->medmnist) (11.4.1.48)\n",
      "Requirement already satisfied: nvidia-cusparse-cu11==11.7.5.86 in /raid/home/guevel/.conda/envs/cell_sim_bis/lib/python3.10/site-packages (from torch->medmnist) (11.7.5.86)\n",
      "Requirement already satisfied: nvidia-nccl-cu11==2.20.5 in /raid/home/guevel/.conda/envs/cell_sim_bis/lib/python3.10/site-packages (from torch->medmnist) (2.20.5)\n",
      "Requirement already satisfied: nvidia-nvtx-cu11==11.8.86 in /raid/home/guevel/.conda/envs/cell_sim_bis/lib/python3.10/site-packages (from torch->medmnist) (11.8.86)\n",
      "Requirement already satisfied: triton==2.3.0 in /raid/home/guevel/.conda/envs/cell_sim_bis/lib/python3.10/site-packages (from torch->medmnist) (2.3.0)\n",
      "Requirement already satisfied: MarkupSafe>=2.0 in /raid/home/guevel/.conda/envs/cell_sim_bis/lib/python3.10/site-packages (from jinja2->torch->medmnist) (3.0.2)\n",
      "Requirement already satisfied: mpmath<1.4,>=1.1.0 in /raid/home/guevel/.conda/envs/cell_sim_bis/lib/python3.10/site-packages (from sympy->torch->medmnist) (1.3.0)\n",
      "Using cached medmnist-3.0.2-py3-none-any.whl (25 kB)\n",
      "Using cached scikit_image-0.25.2-cp310-cp310-manylinux_2_17_x86_64.manylinux2014_x86_64.whl (14.8 MB)\n",
      "Using cached imageio-2.37.0-py3-none-any.whl (315 kB)\n",
      "Using cached lazy_loader-0.4-py3-none-any.whl (12 kB)\n",
      "Using cached tifffile-2025.5.10-py3-none-any.whl (226 kB)\n",
      "Using cached scikit_learn-1.6.1-cp310-cp310-manylinux_2_17_x86_64.manylinux2014_x86_64.whl (13.5 MB)\n",
      "Using cached threadpoolctl-3.6.0-py3-none-any.whl (18 kB)\n",
      "Installing collected packages: tifffile, threadpoolctl, lazy-loader, imageio, fire, scikit-learn, scikit-image, medmnist\n",
      "\u001b[2K   \u001b[90m━━━━━━━━━━━━━━━━━━━━━━━━━━━━━━━━━━━━━━━━\u001b[0m \u001b[32m8/8\u001b[0m [medmnist]6/8\u001b[0m [scikit-image]\n",
      "\u001b[1A\u001b[2KSuccessfully installed fire-0.7.0 imageio-2.37.0 lazy-loader-0.4 medmnist-3.0.2 scikit-image-0.25.2 scikit-learn-1.6.1 threadpoolctl-3.6.0 tifffile-2025.5.10\n"
     ]
    }
   ],
   "source": [
    "!pip install medmnist"
   ]
  },
  {
   "cell_type": "code",
   "execution_count": 4,
   "id": "1c51b90b-5e4a-4dea-b9cc-4d7bb00ebbd7",
   "metadata": {},
   "outputs": [
    {
     "name": "stdout",
     "output_type": "stream",
     "text": [
      "Using downloaded and verified file: /home/guevel/.medmnist/bloodmnist_64.npz\n",
      "Using downloaded and verified file: /home/guevel/.medmnist/bloodmnist_64.npz\n",
      "Using downloaded and verified file: /home/guevel/.medmnist/bloodmnist_64.npz\n"
     ]
    }
   ],
   "source": [
    "# Let's load the dataset\n",
    "import medmnist\n",
    "from medmnist import INFO, Evaluator, BloodMNIST\n",
    "\n",
    "train_dataset = BloodMNIST(split=\"train\", size=64, download=True)\n",
    "val_dataset = BloodMNIST(split=\"val\", size=64, download=True)\n",
    "test_dataset = BloodMNIST(split=\"test\", size=64, download=True)"
   ]
  },
  {
   "cell_type": "markdown",
   "id": "318af3cf-4f41-410b-8d0c-7ede38f4b7c3",
   "metadata": {},
   "source": [
    "This dataset contains images of white blood cells that are divided between 8 categories:\n",
    "\n",
    "- basophil\n",
    "- eosinophil\n",
    "- erythroblast\n",
    "- immature granulocytes\n",
    "- lymphocyte\n",
    "- monocyte\n",
    "- neutrophil\n",
    "- platelet"
   ]
  },
  {
   "cell_type": "markdown",
   "id": "d1d31803-0d3d-4f62-8dce-c788255adb7a",
   "metadata": {},
   "source": [
    "### Understand an image"
   ]
  },
  {
   "cell_type": "code",
   "execution_count": 5,
   "id": "7f1bd82d-5eaf-48d7-927c-7593444b0dbc",
   "metadata": {},
   "outputs": [
    {
     "name": "stdout",
     "output_type": "stream",
     "text": [
      "Le label de l'image est : eosinophil\n",
      "\n"
     ]
    },
    {
     "data": {
      "image/png": "[encoded data removed]",
      "text/plain": [
       "<Figure size 640x480 with 1 Axes>"
      ]
     },
     "metadata": {},
     "output_type": "display_data"
    }
   ],
   "source": [
    "import random\n",
    "import matplotlib.pyplot as plt\n",
    "\n",
    "train_size = len(train_dataset)\n",
    "\n",
    "label_dict = train_dataset.info[\"label\"]\n",
    "img, label = train_dataset[random.randint(0, train_size)]\n",
    "\n",
    "print(f\"Le label de l'image est : {label_dict.get(str(label[0]))}\\n\")\n",
    "plt.imshow(img)\n",
    "plt.show()"
   ]
  },
  {
   "cell_type": "code",
   "execution_count": 40,
   "id": "5a26c207-15d2-48e3-aa94-1b759e030143",
   "metadata": {},
   "outputs": [
    {
     "data": {
      "image/png": "[encoded data removed]",
      "text/plain": [
       "<Figure size 640x480 with 3 Axes>"
      ]
     },
     "metadata": {},
     "output_type": "display_data"
    }
   ],
   "source": [
    "import numpy as np\n",
    "\n",
    "image = np.array(img.convert(\"RGB\"))\n",
    "figure, plots = plt.subplots(ncols=3, nrows=1)\n",
    "for i, subplot in zip(range(3), plots):\n",
    "    temp = np.zeros(image.shape, dtype='uint8')\n",
    "    temp[:,:,i] = image[:,:,i]\n",
    "    subplot.imshow(temp)\n",
    "    subplot.set_axis_off()\n",
    "plt.show()"
   ]
  },
  {
   "cell_type": "markdown",
   "id": "c35719e9-83b7-4027-bdaa-149330f260f0",
   "metadata": {},
   "source": [
    "The first step is to create a [dataset](https://docs.pytorch.org/tutorials/beginner/basics/data_tutorial.html)\n",
    "object in order to use pytorch's functions for the training of our model."
   ]
  },
  {
   "cell_type": "markdown",
   "id": "1744f934-0a37-4e70-8c6a-c89374c3eb7d",
   "metadata": {},
   "source": [
    "### Create the data objects"
   ]
  },
  {
   "cell_type": "code",
   "execution_count": 4,
   "id": "080cd7fc-8dc9-4d91-ac4d-7f41d887b9fe",
   "metadata": {},
   "outputs": [],
   "source": [
    "# The first step is to make a dataset, for this we need to create our own custom object\n",
    "from torch.utils.data import Dataset\n",
    "\n",
    "\n",
    "class CustomDataset(Dataset):\n",
    "\n",
    "    def __init__(self, data, transform):\n",
    "        # initialization method\n",
    "        pass\n",
    "\n",
    "    def __len__(self):\n",
    "        # should return the number of elements of the dataset\n",
    "        pass\n",
    "\n",
    "    def __getitem__(self, idx):\n",
    "        # should return the element of the dataset at index idx\n",
    "        pass"
   ]
  },
  {
   "cell_type": "code",
   "execution_count": 34,
   "id": "ef43971f-c65e-46db-8151-38ce5a6a98e1",
   "metadata": {},
   "outputs": [],
   "source": [
    "# Uncomment below and run this cell to make the solution appear\n",
    "# %load ../src/custom_dataset.py"
   ]
  },
  {
   "cell_type": "code",
   "execution_count": 35,
   "id": "c30ddaaf-a8fe-4b71-aaab-7649e840b376",
   "metadata": {},
   "outputs": [],
   "source": [
    "import torchvision.transforms as transforms\n",
    "\n",
    "# Here we need a transform vision to convert the data which are PIL images into vectors\n",
    "transform = transforms.ToTensor()\n",
    "\n",
    "training_dataset = CustomDataset(train_dataset, transform)\n",
    "validation_dataset = CustomDataset(val_dataset, transform)"
   ]
  },
  {
   "cell_type": "markdown",
   "id": "2f22c54e-597c-44d3-98bc-24878b49950c",
   "metadata": {},
   "source": [
    "Then we can make a dataloader in order to load the data by batches and accelerate\n",
    "the training process"
   ]
  },
  {
   "cell_type": "code",
   "execution_count": 38,
   "id": "8aec8ab9-9377-4792-bed7-e808dd6cb2e0",
   "metadata": {},
   "outputs": [],
   "source": [
    "# Make your own dataloader\n",
    "from torch.utils.data import DataLoader\n",
    "\n",
    "train_loader = DataLoader(training_dataset, batch_size=64)\n",
    "valid_loader = DataLoader(validation_dataset, batch_size=64)"
   ]
  },
  {
   "cell_type": "markdown",
   "id": "85b0f235-69ef-4332-8050-09c86e3d180c",
   "metadata": {},
   "source": [
    "### Create the model"
   ]
  },
  {
   "cell_type": "code",
   "execution_count": 17,
   "id": "9f5f0849-827e-4afa-b8d5-0a1e33eb7d22",
   "metadata": {},
   "outputs": [],
   "source": [
    "# We then create a model from a pretrained point\n",
    "from torchvision import models\n",
    "\n",
    "model = models.resnet18(pretrained=True)"
   ]
  },
  {
   "cell_type": "code",
   "execution_count": 12,
   "id": "08343c53-27be-45f5-a7a6-b595502af0ac",
   "metadata": {},
   "outputs": [],
   "source": [
    "# You can also make your own model architecture!\n",
    "import torch.nn as nn\n",
    "\n",
    "class Net(nn.Module):\n",
    "    def __init__(self, in_channels, num_classes):\n",
    "        super(Net, self).__init__()\n",
    "        # create layers here\n",
    "        # self.l1 = ...\n",
    "\n",
    "    def forward(self, x):\n",
    "        # here the output should be a vector of size num_classes\n",
    "        pass"
   ]
  },
  {
   "cell_type": "code",
   "execution_count": 14,
   "id": "bb277afc-a03f-4a97-adcb-a9a48a40f232",
   "metadata": {},
   "outputs": [],
   "source": [
    "# Uncomment below and run this cell to make the solution appear\n",
    "# %load ../src/net.py"
   ]
  },
  {
   "cell_type": "markdown",
   "id": "b093cf40-3e6a-4e42-9127-c1a74ac5d27a",
   "metadata": {},
   "source": [
    "### Training loop"
   ]
  },
  {
   "cell_type": "code",
   "execution_count": 31,
   "id": "ca0ff167-f9d2-41fa-a0bc-bc8d2e3f3492",
   "metadata": {},
   "outputs": [],
   "source": [
    "# Now we need to make an optimizer + a loss\n",
    "import torch.optim as optim\n",
    "\n",
    "# cross-entropy loss is the one used for multi classification tasks\n",
    "criterion = nn.CrossEntropyLoss()\n",
    "\n",
    "# Adam is a popular optimizer, but other could be used (SGD, Adamw...)\n",
    "optimizer = optim.Adam(model.parameters())"
   ]
  },
  {
   "cell_type": "markdown",
   "id": "197775a2-dcff-42b0-a97c-0f6bd8f4c52c",
   "metadata": {},
   "source": [
    "Now we have everything necessary in order to launch the training process.  \n",
    "> ToDo : Find an image to illustrate training loop"
   ]
  },
  {
   "cell_type": "code",
   "execution_count": 46,
   "id": "94e32824-3dea-4557-bfd9-9ca6682e177b",
   "metadata": {},
   "outputs": [
    {
     "name": "stderr",
     "output_type": "stream",
     "text": [
      "Epoch 1/10 [Train]: 100%|██████████████████████████████| 187/187 [00:02<00:00, 64.61it/s]\n",
      "Epoch 1/10 [Valid]: 100%|████████████████████| 27/27 [00:00<00:00, 94.93it/s, acc=94.22%]\n",
      "Epoch 2/10 [Train]: 100%|██████████████████████████████| 187/187 [00:02<00:00, 66.44it/s]\n",
      "Epoch 3/10 [Train]: 100%|██████████████████████████████| 187/187 [00:02<00:00, 65.32it/s]\n",
      "Epoch 4/10 [Train]: 100%|██████████████████████████████| 187/187 [00:02<00:00, 65.93it/s]\n",
      "Epoch 5/10 [Train]: 100%|██████████████████████████████| 187/187 [00:02<00:00, 64.83it/s]\n",
      "Epoch 6/10 [Train]: 100%|██████████████████████████████| 187/187 [00:02<00:00, 66.51it/s]\n",
      "Epoch 6/10 [Valid]: 100%|████████████████████| 27/27 [00:00<00:00, 94.17it/s, acc=97.02%]\n",
      "Epoch 7/10 [Train]: 100%|██████████████████████████████| 187/187 [00:02<00:00, 68.74it/s]\n",
      "Epoch 8/10 [Train]: 100%|██████████████████████████████| 187/187 [00:02<00:00, 65.55it/s]\n",
      "Epoch 9/10 [Train]: 100%|██████████████████████████████| 187/187 [00:02<00:00, 64.83it/s]\n",
      "Epoch 10/10 [Train]: 100%|█████████████████████████████| 187/187 [00:02<00:00, 64.44it/s]\n"
     ]
    }
   ],
   "source": [
    "# %load ../src/training.py\n",
    "import torch\n",
    "from tqdm import tqdm\n",
    "\n",
    "device = torch.device(\"cuda\")\n",
    "model.to(device)\n",
    "\n",
    "n_epoch = 10\n",
    "\n",
    "for epoch in range(n_epoch):\n",
    "    model.train()\n",
    "    train_loader_tqdm = tqdm(train_loader, desc=f\"Epoch {epoch+1}/{n_epoch} [Train]\")\n",
    "    for inputs, labels in train_loader_tqdm:\n",
    "        inputs = inputs.to(device)\n",
    "        labels = labels.to(device)\n",
    "\n",
    "        optimizer.zero_grad()\n",
    "        outputs = model(inputs)\n",
    "        labels = labels.squeeze(1)\n",
    "        loss = criterion(outputs, labels)\n",
    "        loss.backward()\n",
    "        optimizer.step()\n",
    "\n",
    "    # Add a validation step\n",
    "    if epoch % 5 == 0:\n",
    "        model.eval()\n",
    "        correct = 0\n",
    "        total = 0\n",
    "        val_loader_tqdm = tqdm(valid_loader, desc=f\"Epoch {epoch+1}/{n_epoch} [Valid]\")\n",
    "        with torch.no_grad():\n",
    "            for inputs, labels in val_loader_tqdm:\n",
    "                inputs = inputs.to(device)\n",
    "                labels = labels.to(device)\n",
    "\n",
    "                outputs = model(inputs)\n",
    "                preds = outputs.argmax(dim=1)\n",
    "                labels = labels.squeeze(1)\n",
    "                correct += (preds == labels).sum().item()\n",
    "                total += labels.size(0)\n",
    "\n",
    "                acc = 100 * correct / total\n",
    "                val_loader_tqdm.set_postfix(acc=f\"{acc:.2f}%\")\n",
    "    "
   ]
  },
  {
   "cell_type": "markdown",
   "id": "acdacc47-cfbd-42f1-bfba-e701011036e8",
   "metadata": {},
   "source": [
    "### Visualize the results"
   ]
  },
  {
   "cell_type": "code",
   "execution_count": 50,
   "id": "ab9e16a8-1b59-4a0a-9afa-e4fe2e0fd828",
   "metadata": {},
   "outputs": [],
   "source": [
    "for data in test_loader:\n",
    "    break"
   ]
  },
  {
   "cell_type": "code",
   "execution_count": 52,
   "id": "4c82cab1-b211-4e6a-9803-4ceea3050222",
   "metadata": {},
   "outputs": [
    {
     "data": {
      "text/plain": [
       "torch.Size([64, 3, 64, 64])"
      ]
     },
     "execution_count": 52,
     "metadata": {},
     "output_type": "execute_result"
    }
   ],
   "source": [
    "images, labels = data\n",
    "images.shape"
   ]
  },
  {
   "cell_type": "code",
   "execution_count": 53,
   "id": "b48d6d27-f4be-4695-81e3-53f216b3ebb5",
   "metadata": {},
   "outputs": [],
   "source": [
    "from tqdm import tqdm\n",
    "\n",
    "def find_accuracy(model, dataloader_test):\n",
    "    correct = 0\n",
    "    total = 0\n",
    "    label_test = []\n",
    "    predicted_test = []\n",
    "\n",
    "    with torch.no_grad():\n",
    "        for data in tqdm(dataloader_test):\n",
    "            images, labels = data\n",
    "            label_test+= labels.squeeze().tolist()\n",
    "\n",
    "            outputs = model(images)\n",
    "            _, predicted = torch.max(outputs.data, 1)\n",
    "            predicted_test += predicted.squeeze().tolist()\n",
    "            total += labels.size(0)\n",
    "            correct += (predicted[0] == labels).sum().item() # depending on the shape of predicted you might need to replace by correct += (predicted[0] == labels).sum().item()\n",
    "\n",
    "    print('Accuracy of the network on the test images: %d %%' % (\n",
    "        100 * correct / total))\n",
    "    return predicted_test, label_test, correct / total"
   ]
  },
  {
   "cell_type": "code",
   "execution_count": 54,
   "id": "8586beb7-1174-4ed8-890e-bfcae26906e2",
   "metadata": {},
   "outputs": [
    {
     "name": "stderr",
     "output_type": "stream",
     "text": [
      "100%|████████████████████████████████████████████████████| 54/54 [00:06<00:00,  8.48it/s]"
     ]
    },
    {
     "name": "stdout",
     "output_type": "stream",
     "text": [
      "Accuracy of the network on the test images: 16 %\n"
     ]
    },
    {
     "name": "stderr",
     "output_type": "stream",
     "text": [
      "\n"
     ]
    }
   ],
   "source": [
    "testing_dataset = CustomDataset(test_dataset, transform)\n",
    "test_loader = DataLoader(testing_dataset, batch_size=64)\n",
    "\n",
    "model.to(\"cpu\")\n",
    "results = find_accuracy(model, test_loader)"
   ]
  },
  {
   "cell_type": "markdown",
   "id": "73276e14-bd1c-4b36-8fd6-0336db194216",
   "metadata": {},
   "source": [
    "## Foundation models"
   ]
  },
  {
   "cell_type": "code",
   "execution_count": null,
   "id": "72f6879c-ece8-41c7-97a1-7d9e25885724",
   "metadata": {},
   "outputs": [],
   "source": []
  }
 ],
 "metadata": {
  "kernelspec": {
   "display_name": "Python 3 (ipykernel)",
   "language": "python",
   "name": "python3"
  },
  "language_info": {
   "codemirror_mode": {
    "name": "ipython",
    "version": 3
   },
   "file_extension": ".py",
   "mimetype": "text/x-python",
   "name": "python",
   "nbconvert_exporter": "python",
   "pygments_lexer": "ipython3",
   "version": "3.10.17"
  }
 },
 "nbformat": 4,
 "nbformat_minor": 5
}
