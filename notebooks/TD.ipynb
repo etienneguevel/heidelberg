{
 "cells": [
  {
   "cell_type": "markdown",
   "id": "70ca264c-03ff-47ae-aa2a-887a3c4e74aa",
   "metadata": {},
   "source": [
    "![cell_proportion](./images/cell_proportion.png)"
   ]
  },
  {
   "cell_type": "markdown",
   "id": "c516524e-e542-4874-af96-c19ab0f3b5ec",
   "metadata": {},
   "source": [
    "## Classification\n",
    "\n",
    "Classification is a key task as the relative proportion of the different white blood cells\n",
    "categories indicates the presence or not of a pathology.\n",
    "\n",
    "This part's goal is to leverage an open-source dataset of white blood cells in order to\n",
    "train a Deep Learning model to perform classification."
   ]
  },
  {
   "cell_type": "code",
   "execution_count": 3,
   "id": "37941e35-9244-4f97-b685-9f6af0684493",
   "metadata": {
    "collapsed": true,
    "jupyter": {
     "outputs_hidden": true
    }
   },
   "outputs": [
    {
     "name": "stdout",
     "output_type": "stream",
     "text": [
      "Collecting medmnist\n",
      "  Using cached medmnist-3.0.2-py3-none-any.whl.metadata (14 kB)\n",
      "Requirement already satisfied: numpy in /raid/home/guevel/.conda/envs/cell_sim_bis/lib/python3.10/site-packages (from medmnist) (2.0.2)\n",
      "Requirement already satisfied: pandas in /raid/home/guevel/.conda/envs/cell_sim_bis/lib/python3.10/site-packages (from medmnist) (2.2.3)\n",
      "Collecting scikit-learn (from medmnist)\n",
      "  Using cached scikit_learn-1.6.1-cp310-cp310-manylinux_2_17_x86_64.manylinux2014_x86_64.whl.metadata (18 kB)\n",
      "Collecting scikit-image (from medmnist)\n",
      "  Using cached scikit_image-0.25.2-cp310-cp310-manylinux_2_17_x86_64.manylinux2014_x86_64.whl.metadata (14 kB)\n",
      "Requirement already satisfied: tqdm in /raid/home/guevel/.conda/envs/cell_sim_bis/lib/python3.10/site-packages (from medmnist) (4.67.1)\n",
      "Requirement already satisfied: Pillow in /raid/home/guevel/.conda/envs/cell_sim_bis/lib/python3.10/site-packages (from medmnist) (11.2.1)\n",
      "Collecting fire (from medmnist)\n",
      "  Using cached fire-0.7.0-py3-none-any.whl\n",
      "Requirement already satisfied: torch in /raid/home/guevel/.conda/envs/cell_sim_bis/lib/python3.10/site-packages (from medmnist) (2.3.0+cu118)\n",
      "Requirement already satisfied: torchvision in /raid/home/guevel/.conda/envs/cell_sim_bis/lib/python3.10/site-packages (from medmnist) (0.18.0+cu118)\n",
      "Requirement already satisfied: termcolor in /raid/home/guevel/.conda/envs/cell_sim_bis/lib/python3.10/site-packages (from fire->medmnist) (3.1.0)\n",
      "Requirement already satisfied: python-dateutil>=2.8.2 in /raid/home/guevel/.conda/envs/cell_sim_bis/lib/python3.10/site-packages (from pandas->medmnist) (2.9.0.post0)\n",
      "Requirement already satisfied: pytz>=2020.1 in /raid/home/guevel/.conda/envs/cell_sim_bis/lib/python3.10/site-packages (from pandas->medmnist) (2025.2)\n",
      "Requirement already satisfied: tzdata>=2022.7 in /raid/home/guevel/.conda/envs/cell_sim_bis/lib/python3.10/site-packages (from pandas->medmnist) (2025.2)\n",
      "Requirement already satisfied: six>=1.5 in /raid/home/guevel/.conda/envs/cell_sim_bis/lib/python3.10/site-packages (from python-dateutil>=2.8.2->pandas->medmnist) (1.17.0)\n",
      "Requirement already satisfied: scipy>=1.11.4 in /raid/home/guevel/.conda/envs/cell_sim_bis/lib/python3.10/site-packages (from scikit-image->medmnist) (1.15.3)\n",
      "Requirement already satisfied: networkx>=3.0 in /raid/home/guevel/.conda/envs/cell_sim_bis/lib/python3.10/site-packages (from scikit-image->medmnist) (3.4.2)\n",
      "Collecting imageio!=2.35.0,>=2.33 (from scikit-image->medmnist)\n",
      "  Using cached imageio-2.37.0-py3-none-any.whl.metadata (5.2 kB)\n",
      "Collecting tifffile>=2022.8.12 (from scikit-image->medmnist)\n",
      "  Using cached tifffile-2025.5.10-py3-none-any.whl.metadata (31 kB)\n",
      "Requirement already satisfied: packaging>=21 in /raid/home/guevel/.conda/envs/cell_sim_bis/lib/python3.10/site-packages (from scikit-image->medmnist) (25.0)\n",
      "Collecting lazy-loader>=0.4 (from scikit-image->medmnist)\n",
      "  Using cached lazy_loader-0.4-py3-none-any.whl.metadata (7.6 kB)\n",
      "Requirement already satisfied: joblib>=1.2.0 in /raid/home/guevel/.conda/envs/cell_sim_bis/lib/python3.10/site-packages (from scikit-learn->medmnist) (1.5.1)\n",
      "Collecting threadpoolctl>=3.1.0 (from scikit-learn->medmnist)\n",
      "  Using cached threadpoolctl-3.6.0-py3-none-any.whl.metadata (13 kB)\n",
      "Requirement already satisfied: filelock in /raid/home/guevel/.conda/envs/cell_sim_bis/lib/python3.10/site-packages (from torch->medmnist) (3.18.0)\n",
      "Requirement already satisfied: typing-extensions>=4.8.0 in /raid/home/guevel/.conda/envs/cell_sim_bis/lib/python3.10/site-packages (from torch->medmnist) (4.14.0)\n",
      "Requirement already satisfied: sympy in /raid/home/guevel/.conda/envs/cell_sim_bis/lib/python3.10/site-packages (from torch->medmnist) (1.14.0)\n",
      "Requirement already satisfied: jinja2 in /raid/home/guevel/.conda/envs/cell_sim_bis/lib/python3.10/site-packages (from torch->medmnist) (3.1.6)\n",
      "Requirement already satisfied: fsspec in /raid/home/guevel/.conda/envs/cell_sim_bis/lib/python3.10/site-packages (from torch->medmnist) (2025.5.1)\n",
      "Requirement already satisfied: nvidia-cuda-nvrtc-cu11==11.8.89 in /raid/home/guevel/.conda/envs/cell_sim_bis/lib/python3.10/site-packages (from torch->medmnist) (11.8.89)\n",
      "Requirement already satisfied: nvidia-cuda-runtime-cu11==11.8.89 in /raid/home/guevel/.conda/envs/cell_sim_bis/lib/python3.10/site-packages (from torch->medmnist) (11.8.89)\n",
      "Requirement already satisfied: nvidia-cuda-cupti-cu11==11.8.87 in /raid/home/guevel/.conda/envs/cell_sim_bis/lib/python3.10/site-packages (from torch->medmnist) (11.8.87)\n",
      "Requirement already satisfied: nvidia-cudnn-cu11==8.7.0.84 in /raid/home/guevel/.conda/envs/cell_sim_bis/lib/python3.10/site-packages (from torch->medmnist) (8.7.0.84)\n",
      "Requirement already satisfied: nvidia-cublas-cu11==11.11.3.6 in /raid/home/guevel/.conda/envs/cell_sim_bis/lib/python3.10/site-packages (from torch->medmnist) (11.11.3.6)\n",
      "Requirement already satisfied: nvidia-cufft-cu11==10.9.0.58 in /raid/home/guevel/.conda/envs/cell_sim_bis/lib/python3.10/site-packages (from torch->medmnist) (10.9.0.58)\n",
      "Requirement already satisfied: nvidia-curand-cu11==10.3.0.86 in /raid/home/guevel/.conda/envs/cell_sim_bis/lib/python3.10/site-packages (from torch->medmnist) (10.3.0.86)\n",
      "Requirement already satisfied: nvidia-cusolver-cu11==11.4.1.48 in /raid/home/guevel/.conda/envs/cell_sim_bis/lib/python3.10/site-packages (from torch->medmnist) (11.4.1.48)\n",
      "Requirement already satisfied: nvidia-cusparse-cu11==11.7.5.86 in /raid/home/guevel/.conda/envs/cell_sim_bis/lib/python3.10/site-packages (from torch->medmnist) (11.7.5.86)\n",
      "Requirement already satisfied: nvidia-nccl-cu11==2.20.5 in /raid/home/guevel/.conda/envs/cell_sim_bis/lib/python3.10/site-packages (from torch->medmnist) (2.20.5)\n",
      "Requirement already satisfied: nvidia-nvtx-cu11==11.8.86 in /raid/home/guevel/.conda/envs/cell_sim_bis/lib/python3.10/site-packages (from torch->medmnist) (11.8.86)\n",
      "Requirement already satisfied: triton==2.3.0 in /raid/home/guevel/.conda/envs/cell_sim_bis/lib/python3.10/site-packages (from torch->medmnist) (2.3.0)\n",
      "Requirement already satisfied: MarkupSafe>=2.0 in /raid/home/guevel/.conda/envs/cell_sim_bis/lib/python3.10/site-packages (from jinja2->torch->medmnist) (3.0.2)\n",
      "Requirement already satisfied: mpmath<1.4,>=1.1.0 in /raid/home/guevel/.conda/envs/cell_sim_bis/lib/python3.10/site-packages (from sympy->torch->medmnist) (1.3.0)\n",
      "Using cached medmnist-3.0.2-py3-none-any.whl (25 kB)\n",
      "Using cached scikit_image-0.25.2-cp310-cp310-manylinux_2_17_x86_64.manylinux2014_x86_64.whl (14.8 MB)\n",
      "Using cached imageio-2.37.0-py3-none-any.whl (315 kB)\n",
      "Using cached lazy_loader-0.4-py3-none-any.whl (12 kB)\n",
      "Using cached tifffile-2025.5.10-py3-none-any.whl (226 kB)\n",
      "Using cached scikit_learn-1.6.1-cp310-cp310-manylinux_2_17_x86_64.manylinux2014_x86_64.whl (13.5 MB)\n",
      "Using cached threadpoolctl-3.6.0-py3-none-any.whl (18 kB)\n",
      "Installing collected packages: tifffile, threadpoolctl, lazy-loader, imageio, fire, scikit-learn, scikit-image, medmnist\n",
      "\u001b[2K   \u001b[90m━━━━━━━━━━━━━━━━━━━━━━━━━━━━━━━━━━━━━━━━\u001b[0m \u001b[32m8/8\u001b[0m [medmnist]6/8\u001b[0m [scikit-image]\n",
      "\u001b[1A\u001b[2KSuccessfully installed fire-0.7.0 imageio-2.37.0 lazy-loader-0.4 medmnist-3.0.2 scikit-image-0.25.2 scikit-learn-1.6.1 threadpoolctl-3.6.0 tifffile-2025.5.10\n"
     ]
    }
   ],
   "source": [
    "!pip install medmnist"
   ]
  },
  {
   "cell_type": "code",
   "execution_count": 4,
   "id": "1c51b90b-5e4a-4dea-b9cc-4d7bb00ebbd7",
   "metadata": {},
   "outputs": [
    {
     "name": "stdout",
     "output_type": "stream",
     "text": [
      "Using downloaded and verified file: /home/guevel/.medmnist/bloodmnist_64.npz\n",
      "Using downloaded and verified file: /home/guevel/.medmnist/bloodmnist_64.npz\n",
      "Using downloaded and verified file: /home/guevel/.medmnist/bloodmnist_64.npz\n"
     ]
    }
   ],
   "source": [
    "# Let's load the dataset\n",
    "import medmnist\n",
    "from medmnist import INFO, Evaluator, BloodMNIST\n",
    "\n",
    "train_dataset = BloodMNIST(split=\"train\", size=64, download=True)\n",
    "val_dataset = BloodMNIST(split=\"val\", size=64, download=True)\n",
    "test_dataset = BloodMNIST(split=\"test\", size=64, download=True)"
   ]
  },
  {
   "cell_type": "markdown",
   "id": "318af3cf-4f41-410b-8d0c-7ede38f4b7c3",
   "metadata": {},
   "source": [
    "This dataset contains images of white blood cells that are divided between 8 categories:\n",
    "\n",
    "- basophil\n",
    "- eosinophil\n",
    "- erythroblast\n",
    "- immature granulocytes\n",
    "- lymphocyte\n",
    "- monocyte\n",
    "- neutrophil\n",
    "- platelet"
   ]
  },
  {
   "cell_type": "markdown",
   "id": "d1d31803-0d3d-4f62-8dce-c788255adb7a",
   "metadata": {},
   "source": [
    "### Understand an image"
   ]
  },
  {
   "cell_type": "code",
   "execution_count": 56,
   "id": "7f1bd82d-5eaf-48d7-927c-7593444b0dbc",
   "metadata": {},
   "outputs": [
    {
     "name": "stdout",
     "output_type": "stream",
     "text": [
      "Image's class is: platelet\n",
      "\n"
     ]
    },
    {
     "data": {
      "image/png": "[encoded data removed]",
      "text/plain": [
       "<Figure size 640x480 with 1 Axes>"
      ]
     },
     "metadata": {},
     "output_type": "display_data"
    }
   ],
   "source": [
    "import random\n",
    "import matplotlib.pyplot as plt\n",
    "\n",
    "train_size = len(train_dataset)\n",
    "\n",
    "label_dict = train_dataset.info[\"label\"]\n",
    "img, label = train_dataset[random.randint(0, train_size)]\n",
    "\n",
    "print(f\"Image's class is: {label_dict.get(str(label[0]))}\\n\")\n",
    "plt.imshow(img)\n",
    "plt.show()"
   ]
  },
  {
   "cell_type": "code",
   "execution_count": 57,
   "id": "5a26c207-15d2-48e3-aa94-1b759e030143",
   "metadata": {},
   "outputs": [
    {
     "data": {
      "image/png": "[encoded data removed]",
      "text/plain": [
       "<Figure size 640x480 with 3 Axes>"
      ]
     },
     "metadata": {},
     "output_type": "display_data"
    }
   ],
   "source": [
    "import numpy as np\n",
    "\n",
    "image = np.array(img.convert(\"RGB\"))\n",
    "figure, plots = plt.subplots(ncols=3, nrows=1)\n",
    "for i, subplot in zip(range(3), plots):\n",
    "    temp = np.zeros(image.shape, dtype='uint8')\n",
    "    temp[:,:,i] = image[:,:,i]\n",
    "    subplot.imshow(temp)\n",
    "    subplot.set_axis_off()\n",
    "plt.show()"
   ]
  },
  {
   "cell_type": "markdown",
   "id": "c35719e9-83b7-4027-bdaa-149330f260f0",
   "metadata": {},
   "source": [
    "The first step is to create a [dataset](https://docs.pytorch.org/tutorials/beginner/basics/data_tutorial.html)\n",
    "object in order to use pytorch's functions for the training of our model."
   ]
  },
  {
   "cell_type": "markdown",
   "id": "1744f934-0a37-4e70-8c6a-c89374c3eb7d",
   "metadata": {},
   "source": [
    "### Create the data objects"
   ]
  },
  {
   "cell_type": "code",
   "execution_count": 4,
   "id": "080cd7fc-8dc9-4d91-ac4d-7f41d887b9fe",
   "metadata": {},
   "outputs": [],
   "source": [
    "# The first step is to make a dataset, for this we need to create our own custom object\n",
    "from torch.utils.data import Dataset\n",
    "\n",
    "\n",
    "class CustomDataset(Dataset):\n",
    "\n",
    "    def __init__(self, data, transform):\n",
    "        # initialization method\n",
    "        pass\n",
    "\n",
    "    def __len__(self):\n",
    "        # should return the number of elements of the dataset\n",
    "        pass\n",
    "\n",
    "    def __getitem__(self, idx):\n",
    "        # should return the element of the dataset at index idx\n",
    "        pass"
   ]
  },
  {
   "cell_type": "code",
   "execution_count": 60,
   "id": "ef43971f-c65e-46db-8151-38ce5a6a98e1",
   "metadata": {},
   "outputs": [],
   "source": [
    "# %load ../src/custom_dataset.py\n",
    "from torch.utils.data import Dataset\n",
    "\n",
    "class CustomDataset(Dataset):\n",
    "\n",
    "    def __init__(self, data, transform):\n",
    "        self.data = data\n",
    "        self.transform = transform\n",
    "\n",
    "    def __len__(self):\n",
    "        return len(self.data)\n",
    "\n",
    "    def __getitem__(self, idx):\n",
    "        img, label = self.data[idx]\n",
    "\n",
    "        if self.transform:\n",
    "            img = self.transform(img)\n",
    "\n",
    "        return img, label\n"
   ]
  },
  {
   "cell_type": "code",
   "execution_count": 61,
   "id": "c30ddaaf-a8fe-4b71-aaab-7649e840b376",
   "metadata": {},
   "outputs": [],
   "source": [
    "import torchvision.transforms as transforms\n",
    "\n",
    "# Here we need a transform vision to convert the data which are PIL images into vectors\n",
    "transform = transforms.ToTensor()\n",
    "\n",
    "training_dataset = CustomDataset(train_dataset, transform)\n",
    "validation_dataset = CustomDataset(val_dataset, transform)"
   ]
  },
  {
   "cell_type": "markdown",
   "id": "2f22c54e-597c-44d3-98bc-24878b49950c",
   "metadata": {},
   "source": [
    "Then we can make a dataloader in order to load the data by batches and accelerate\n",
    "the training process"
   ]
  },
  {
   "cell_type": "code",
   "execution_count": 62,
   "id": "8aec8ab9-9377-4792-bed7-e808dd6cb2e0",
   "metadata": {},
   "outputs": [],
   "source": [
    "# Make your own dataloader\n",
    "from torch.utils.data import DataLoader\n",
    "\n",
    "train_loader = DataLoader(training_dataset, batch_size=64)\n",
    "valid_loader = DataLoader(validation_dataset, batch_size=64)"
   ]
  },
  {
   "cell_type": "markdown",
   "id": "85b0f235-69ef-4332-8050-09c86e3d180c",
   "metadata": {
    "jp-MarkdownHeadingCollapsed": true
   },
   "source": [
    "### Create the model\n",
    "\n",
    "The model we are going to use for this task are Convolutional Neural Networks\n",
    "([CNN](https://poloclub.github.io/cnn-explainer/)), and especially a family\n",
    "of them called [ResNets](https://arxiv.org/abs/1512.03385).  \n"
   ]
  },
  {
   "cell_type": "code",
   "execution_count": 63,
   "id": "9f5f0849-827e-4afa-b8d5-0a1e33eb7d22",
   "metadata": {},
   "outputs": [],
   "source": [
    "# We create a model from a pretrained point\n",
    "from torchvision import models\n",
    "\n",
    "model = models.resnet18(pretrained=True)"
   ]
  },
  {
   "cell_type": "code",
   "execution_count": 12,
   "id": "08343c53-27be-45f5-a7a6-b595502af0ac",
   "metadata": {},
   "outputs": [],
   "source": [
    "# You can also make your own model architecture!\n",
    "import torch.nn as nn\n",
    "\n",
    "class Net(nn.Module):\n",
    "    def __init__(self, in_channels, num_classes):\n",
    "        super(Net, self).__init__()\n",
    "        # create layers here\n",
    "        # self.l1 = ...\n",
    "\n",
    "    def forward(self, x):\n",
    "        # here the output should be a vector of size num_classes\n",
    "        pass"
   ]
  },
  {
   "cell_type": "code",
   "execution_count": 14,
   "id": "bb277afc-a03f-4a97-adcb-a9a48a40f232",
   "metadata": {},
   "outputs": [],
   "source": [
    "# Uncomment below and run this cell to make the solution appear\n",
    "# %load ../src/net.py"
   ]
  },
  {
   "cell_type": "markdown",
   "id": "b093cf40-3e6a-4e42-9127-c1a74ac5d27a",
   "metadata": {},
   "source": [
    "### Training loop"
   ]
  },
  {
   "cell_type": "code",
   "execution_count": 64,
   "id": "ca0ff167-f9d2-41fa-a0bc-bc8d2e3f3492",
   "metadata": {},
   "outputs": [],
   "source": [
    "# Now we need to make an optimizer + a loss\n",
    "import torch.optim as optim\n",
    "\n",
    "# cross-entropy loss is the one used for multi classification tasks\n",
    "criterion = nn.CrossEntropyLoss()\n",
    "\n",
    "# Adam is a popular optimizer, but other could be used (SGD, Adamw...)\n",
    "optimizer = optim.Adam(model.parameters())"
   ]
  },
  {
   "cell_type": "markdown",
   "id": "197775a2-dcff-42b0-a97c-0f6bd8f4c52c",
   "metadata": {},
   "source": [
    "Now we have everything necessary in order to launch the training process.  \n",
    "> ToDo : Find an image to illustrate training loop"
   ]
  },
  {
   "cell_type": "code",
   "execution_count": 65,
   "id": "94e32824-3dea-4557-bfd9-9ca6682e177b",
   "metadata": {},
   "outputs": [
    {
     "name": "stderr",
     "output_type": "stream",
     "text": [
      "Epoch 1/10 [Train]: 100%|██████████████████████████████| 187/187 [00:02<00:00, 67.41it/s]\n",
      "Epoch 1/10 [Valid]: 100%|███████████████████| 27/27 [00:00<00:00, 101.84it/s, acc=95.39%]\n",
      "Epoch 2/10 [Train]: 100%|██████████████████████████████| 187/187 [00:02<00:00, 67.43it/s]\n",
      "Epoch 3/10 [Train]: 100%|██████████████████████████████| 187/187 [00:02<00:00, 67.68it/s]\n",
      "Epoch 4/10 [Train]: 100%|██████████████████████████████| 187/187 [00:02<00:00, 67.66it/s]\n",
      "Epoch 5/10 [Train]: 100%|██████████████████████████████| 187/187 [00:02<00:00, 67.68it/s]\n",
      "Epoch 6/10 [Train]: 100%|██████████████████████████████| 187/187 [00:02<00:00, 68.22it/s]\n",
      "Epoch 6/10 [Valid]: 100%|███████████████████| 27/27 [00:00<00:00, 101.19it/s, acc=96.20%]\n",
      "Epoch 7/10 [Train]: 100%|██████████████████████████████| 187/187 [00:02<00:00, 67.61it/s]\n",
      "Epoch 8/10 [Train]: 100%|██████████████████████████████| 187/187 [00:02<00:00, 68.13it/s]\n",
      "Epoch 9/10 [Train]: 100%|██████████████████████████████| 187/187 [00:02<00:00, 66.94it/s]\n",
      "Epoch 10/10 [Train]: 100%|█████████████████████████████| 187/187 [00:02<00:00, 66.84it/s]\n"
     ]
    }
   ],
   "source": [
    "# %load ../src/training.py\n",
    "import torch\n",
    "from tqdm import tqdm\n",
    "\n",
    "device = torch.device(\"cuda\")\n",
    "model.to(device)\n",
    "\n",
    "n_epoch = 10\n",
    "\n",
    "for epoch in range(n_epoch):\n",
    "    model.train()\n",
    "    train_loader_tqdm = tqdm(train_loader, desc=f\"Epoch {epoch+1}/{n_epoch} [Train]\")\n",
    "    for inputs, labels in train_loader_tqdm:\n",
    "        inputs = inputs.to(device)\n",
    "        labels = labels.to(device)\n",
    "\n",
    "        optimizer.zero_grad()\n",
    "        outputs = model(inputs)\n",
    "        labels = labels.squeeze(1)\n",
    "        loss = criterion(outputs, labels)\n",
    "        loss.backward()\n",
    "        optimizer.step()\n",
    "\n",
    "    # Add a validation step\n",
    "    if epoch % 5 == 0:\n",
    "        model.eval()\n",
    "        correct = 0\n",
    "        total = 0\n",
    "        val_loader_tqdm = tqdm(valid_loader, desc=f\"Epoch {epoch+1}/{n_epoch} [Valid]\")\n",
    "        with torch.no_grad():\n",
    "            for inputs, labels in val_loader_tqdm:\n",
    "                inputs = inputs.to(device)\n",
    "                labels = labels.to(device)\n",
    "\n",
    "                outputs = model(inputs)\n",
    "                preds = outputs.argmax(dim=1)\n",
    "                labels = labels.squeeze(1)\n",
    "                correct += (preds == labels).sum().item()\n",
    "                total += labels.size(0)\n",
    "\n",
    "                acc = 100 * correct / total\n",
    "                val_loader_tqdm.set_postfix(acc=f\"{acc:.2f}%\")\n",
    "    "
   ]
  },
  {
   "cell_type": "markdown",
   "id": "acdacc47-cfbd-42f1-bfba-e701011036e8",
   "metadata": {},
   "source": [
    "### Visualize the results"
   ]
  },
  {
   "cell_type": "code",
   "execution_count": 50,
   "id": "ab9e16a8-1b59-4a0a-9afa-e4fe2e0fd828",
   "metadata": {},
   "outputs": [],
   "source": [
    "for data in test_loader:\n",
    "    break"
   ]
  },
  {
   "cell_type": "code",
   "execution_count": 52,
   "id": "4c82cab1-b211-4e6a-9803-4ceea3050222",
   "metadata": {},
   "outputs": [
    {
     "data": {
      "text/plain": [
       "torch.Size([64, 3, 64, 64])"
      ]
     },
     "execution_count": 52,
     "metadata": {},
     "output_type": "execute_result"
    }
   ],
   "source": [
    "images, labels = data\n",
    "images.shape"
   ]
  },
  {
   "cell_type": "code",
   "execution_count": 79,
   "id": "b48d6d27-f4be-4695-81e3-53f216b3ebb5",
   "metadata": {},
   "outputs": [],
   "source": [
    "from tqdm import tqdm\n",
    "\n",
    "def find_accuracy(model, dataloader_test, device):\n",
    "    correct = 0\n",
    "    total = 0\n",
    "    label_test = []\n",
    "    predicted_test = []\n",
    "\n",
    "    with torch.no_grad():\n",
    "        for inputs, labels in tqdm(dataloader_test):\n",
    "            # Move the data to the device \n",
    "            inputs = inputs.to(device)\n",
    "            labels = labels.to(device)\n",
    "\n",
    "            # Predict the label with the trained model\n",
    "            outputs = model(inputs)\n",
    "            preds = outputs.argmax(dim=1)\n",
    "            \n",
    "            # Calculate the performance\n",
    "            labels = labels.squeeze(1)\n",
    "            correct += (preds == labels).sum().item()\n",
    "            total += labels.size(0)\n",
    "\n",
    "            # Add the predictions & labels in the list\n",
    "            label_test.extend(labels.to('cpu').tolist())\n",
    "            predicted_test.extend(preds.to('cpu').tolist())\n",
    "\n",
    "    print('Accuracy of the network on the test images: %d %%' % (\n",
    "        100 * correct / total))\n",
    "    return predicted_test, label_test, correct / total"
   ]
  },
  {
   "cell_type": "code",
   "execution_count": 80,
   "id": "8586beb7-1174-4ed8-890e-bfcae26906e2",
   "metadata": {},
   "outputs": [
    {
     "name": "stderr",
     "output_type": "stream",
     "text": [
      "100%|████████████████████████████████████████████████████| 54/54 [00:00<00:00, 80.69it/s]"
     ]
    },
    {
     "name": "stdout",
     "output_type": "stream",
     "text": [
      "Accuracy of the network on the test images: 94 %\n"
     ]
    },
    {
     "name": "stderr",
     "output_type": "stream",
     "text": [
      "\n"
     ]
    }
   ],
   "source": [
    "# Make the test dataset\n",
    "testing_dataset = CustomDataset(test_dataset, transform)\n",
    "test_loader = DataLoader(testing_dataset, batch_size=64)\n",
    "\n",
    "# Specify the device\n",
    "device = torch.device(\"cuda\")\n",
    "model.to(device)\n",
    "\n",
    "# Calculate the results\n",
    "predictions, labels, acc = find_accuracy(model, test_loader, device)"
   ]
  },
  {
   "cell_type": "code",
   "execution_count": 114,
   "id": "85bccbd9-a0e1-4317-947f-50292d10979a",
   "metadata": {},
   "outputs": [
    {
     "name": "stdout",
     "output_type": "stream",
     "text": [
      "                      precision    recall  f1-score   support\n",
      "\n",
      "            basophil       0.84      0.98      0.91       244\n",
      "          eosinophil       1.00      1.00      1.00       624\n",
      "        erythroblast       0.97      0.96      0.96       311\n",
      "immature granulocyte       0.92      0.82      0.87       579\n",
      "          lymphocyte       0.97      0.93      0.95       243\n",
      "            monocyte       0.94      0.93      0.94       284\n",
      "          neutrophil       0.93      0.98      0.95       666\n",
      "            platelet       1.00      1.00      1.00       470\n",
      "\n",
      "            accuracy                           0.95      3421\n",
      "           macro avg       0.95      0.95      0.95      3421\n",
      "        weighted avg       0.95      0.95      0.95      3421\n",
      "\n"
     ]
    },
    {
     "data": {
      "image/png": "[encoded data removed]",
      "text/plain": [
       "<Figure size 1200x800 with 2 Axes>"
      ]
     },
     "metadata": {},
     "output_type": "display_data"
    }
   ],
   "source": [
    "import matplotlib.pyplot as plt\n",
    "import pandas as pd\n",
    "import seaborn as sns\n",
    "from sklearn.metrics import classification_report, confusion_matrix\n",
    "\n",
    "names = [n[:20] for n in train_dataset.info.get(\"label\").values()]\n",
    "\n",
    "C_matrix = pd.DataFrame(confusion_matrix(labels, predictions))\n",
    "C_matrix.index = names\n",
    "C_matrix.columns = names\n",
    "\n",
    "fig = plt.figure(figsize=(12, 8))\n",
    "sns.heatmap(C_matrix, annot=True, cmap=\"flare\", vmax=100, fmt='.3g')\n",
    "fig.show()\n",
    "\n",
    "print(classification_report(labels, predictions, target_names=names))"
   ]
  },
  {
   "cell_type": "code",
   "execution_count": null,
   "id": "0ec074bb-6188-42d9-a393-1d182d991425",
   "metadata": {},
   "outputs": [],
   "source": []
  },
  {
   "cell_type": "markdown",
   "id": "73276e14-bd1c-4b36-8fd6-0336db194216",
   "metadata": {},
   "source": [
    "## Foundation models\n",
    "\n",
    "*\"Foundation models\"* are called like this because their outputs, called **embeddings**\n",
    "are not predictions but vectors of a shape $\\mathbb{R}^n$.  \n",
    "The embeddings are the angular stone used for other usages, which can be classification,\n",
    "segmentation, multimodal models..."
   ]
  },
  {
   "cell_type": "markdown",
   "id": "abad27d9-904e-494e-86d7-bb8cc8ec2cf0",
   "metadata": {},
   "source": [
    "In theory every architecture can be used to make a fondation model, but in practice\n",
    "[Transformers](https://poloclub.github.io/transformer-explainer/) are THE type of\n",
    "model commonly used,  \n",
    "and have been the workhorse of the AI ecosystem for the last 8 years."
   ]
  },
  {
   "cell_type": "code",
   "execution_count": 116,
   "id": "3e75ee85-7a13-4e2b-94f2-980caa035241",
   "metadata": {
    "collapsed": true,
    "jupyter": {
     "outputs_hidden": true
    }
   },
   "outputs": [
    {
     "name": "stdout",
     "output_type": "stream",
     "text": [
      "Collecting timm\n",
      "  Using cached timm-1.0.15-py3-none-any.whl.metadata (52 kB)\n",
      "Requirement already satisfied: torch in /raid/home/guevel/.conda/envs/cell_sim_bis/lib/python3.10/site-packages (from timm) (2.3.0+cu118)\n",
      "Requirement already satisfied: torchvision in /raid/home/guevel/.conda/envs/cell_sim_bis/lib/python3.10/site-packages (from timm) (0.18.0+cu118)\n",
      "Requirement already satisfied: pyyaml in /raid/home/guevel/.conda/envs/cell_sim_bis/lib/python3.10/site-packages (from timm) (6.0.2)\n",
      "Collecting huggingface_hub (from timm)\n",
      "  Downloading huggingface_hub-0.32.4-py3-none-any.whl.metadata (14 kB)\n",
      "Collecting safetensors (from timm)\n",
      "  Using cached safetensors-0.5.3-cp38-abi3-manylinux_2_17_x86_64.manylinux2014_x86_64.whl.metadata (3.8 kB)\n",
      "Requirement already satisfied: filelock in /raid/home/guevel/.conda/envs/cell_sim_bis/lib/python3.10/site-packages (from huggingface_hub->timm) (3.18.0)\n",
      "Requirement already satisfied: fsspec>=2023.5.0 in /raid/home/guevel/.conda/envs/cell_sim_bis/lib/python3.10/site-packages (from huggingface_hub->timm) (2025.5.1)\n",
      "Requirement already satisfied: packaging>=20.9 in /raid/home/guevel/.conda/envs/cell_sim_bis/lib/python3.10/site-packages (from huggingface_hub->timm) (25.0)\n",
      "Requirement already satisfied: requests in /raid/home/guevel/.conda/envs/cell_sim_bis/lib/python3.10/site-packages (from huggingface_hub->timm) (2.32.3)\n",
      "Requirement already satisfied: tqdm>=4.42.1 in /raid/home/guevel/.conda/envs/cell_sim_bis/lib/python3.10/site-packages (from huggingface_hub->timm) (4.67.1)\n",
      "Requirement already satisfied: typing-extensions>=3.7.4.3 in /raid/home/guevel/.conda/envs/cell_sim_bis/lib/python3.10/site-packages (from huggingface_hub->timm) (4.14.0)\n",
      "Collecting hf-xet<2.0.0,>=1.1.2 (from huggingface_hub->timm)\n",
      "  Downloading hf_xet-1.1.3-cp37-abi3-manylinux_2_17_x86_64.manylinux2014_x86_64.whl.metadata (879 bytes)\n",
      "Requirement already satisfied: charset_normalizer<4,>=2 in /raid/home/guevel/.conda/envs/cell_sim_bis/lib/python3.10/site-packages (from requests->huggingface_hub->timm) (3.4.2)\n",
      "Requirement already satisfied: idna<4,>=2.5 in /raid/home/guevel/.conda/envs/cell_sim_bis/lib/python3.10/site-packages (from requests->huggingface_hub->timm) (3.10)\n",
      "Requirement already satisfied: urllib3<3,>=1.21.1 in /raid/home/guevel/.conda/envs/cell_sim_bis/lib/python3.10/site-packages (from requests->huggingface_hub->timm) (2.4.0)\n",
      "Requirement already satisfied: certifi>=2017.4.17 in /raid/home/guevel/.conda/envs/cell_sim_bis/lib/python3.10/site-packages (from requests->huggingface_hub->timm) (2025.4.26)\n",
      "Requirement already satisfied: sympy in /raid/home/guevel/.conda/envs/cell_sim_bis/lib/python3.10/site-packages (from torch->timm) (1.14.0)\n",
      "Requirement already satisfied: networkx in /raid/home/guevel/.conda/envs/cell_sim_bis/lib/python3.10/site-packages (from torch->timm) (3.4.2)\n",
      "Requirement already satisfied: jinja2 in /raid/home/guevel/.conda/envs/cell_sim_bis/lib/python3.10/site-packages (from torch->timm) (3.1.6)\n",
      "Requirement already satisfied: nvidia-cuda-nvrtc-cu11==11.8.89 in /raid/home/guevel/.conda/envs/cell_sim_bis/lib/python3.10/site-packages (from torch->timm) (11.8.89)\n",
      "Requirement already satisfied: nvidia-cuda-runtime-cu11==11.8.89 in /raid/home/guevel/.conda/envs/cell_sim_bis/lib/python3.10/site-packages (from torch->timm) (11.8.89)\n",
      "Requirement already satisfied: nvidia-cuda-cupti-cu11==11.8.87 in /raid/home/guevel/.conda/envs/cell_sim_bis/lib/python3.10/site-packages (from torch->timm) (11.8.87)\n",
      "Requirement already satisfied: nvidia-cudnn-cu11==8.7.0.84 in /raid/home/guevel/.conda/envs/cell_sim_bis/lib/python3.10/site-packages (from torch->timm) (8.7.0.84)\n",
      "Requirement already satisfied: nvidia-cublas-cu11==11.11.3.6 in /raid/home/guevel/.conda/envs/cell_sim_bis/lib/python3.10/site-packages (from torch->timm) (11.11.3.6)\n",
      "Requirement already satisfied: nvidia-cufft-cu11==10.9.0.58 in /raid/home/guevel/.conda/envs/cell_sim_bis/lib/python3.10/site-packages (from torch->timm) (10.9.0.58)\n",
      "Requirement already satisfied: nvidia-curand-cu11==10.3.0.86 in /raid/home/guevel/.conda/envs/cell_sim_bis/lib/python3.10/site-packages (from torch->timm) (10.3.0.86)\n",
      "Requirement already satisfied: nvidia-cusolver-cu11==11.4.1.48 in /raid/home/guevel/.conda/envs/cell_sim_bis/lib/python3.10/site-packages (from torch->timm) (11.4.1.48)\n",
      "Requirement already satisfied: nvidia-cusparse-cu11==11.7.5.86 in /raid/home/guevel/.conda/envs/cell_sim_bis/lib/python3.10/site-packages (from torch->timm) (11.7.5.86)\n",
      "Requirement already satisfied: nvidia-nccl-cu11==2.20.5 in /raid/home/guevel/.conda/envs/cell_sim_bis/lib/python3.10/site-packages (from torch->timm) (2.20.5)\n",
      "Requirement already satisfied: nvidia-nvtx-cu11==11.8.86 in /raid/home/guevel/.conda/envs/cell_sim_bis/lib/python3.10/site-packages (from torch->timm) (11.8.86)\n",
      "Requirement already satisfied: triton==2.3.0 in /raid/home/guevel/.conda/envs/cell_sim_bis/lib/python3.10/site-packages (from torch->timm) (2.3.0)\n",
      "Requirement already satisfied: MarkupSafe>=2.0 in /raid/home/guevel/.conda/envs/cell_sim_bis/lib/python3.10/site-packages (from jinja2->torch->timm) (3.0.2)\n",
      "Requirement already satisfied: mpmath<1.4,>=1.1.0 in /raid/home/guevel/.conda/envs/cell_sim_bis/lib/python3.10/site-packages (from sympy->torch->timm) (1.3.0)\n",
      "Requirement already satisfied: numpy in /raid/home/guevel/.conda/envs/cell_sim_bis/lib/python3.10/site-packages (from torchvision->timm) (2.0.2)\n",
      "Requirement already satisfied: pillow!=8.3.*,>=5.3.0 in /raid/home/guevel/.conda/envs/cell_sim_bis/lib/python3.10/site-packages (from torchvision->timm) (11.2.1)\n",
      "Using cached timm-1.0.15-py3-none-any.whl (2.4 MB)\n",
      "Downloading huggingface_hub-0.32.4-py3-none-any.whl (512 kB)\n",
      "Downloading hf_xet-1.1.3-cp37-abi3-manylinux_2_17_x86_64.manylinux2014_x86_64.whl (4.8 MB)\n",
      "\u001b[2K   \u001b[90m━━━━━━━━━━━━━━━━━━━━━━━━━━━━━━━━━━━━━━━━\u001b[0m \u001b[32m4.8/4.8 MB\u001b[0m \u001b[31m9.7 MB/s\u001b[0m eta \u001b[36m0:00:00\u001b[0mta \u001b[36m0:00:01\u001b[0m\n",
      "\u001b[?25hUsing cached safetensors-0.5.3-cp38-abi3-manylinux_2_17_x86_64.manylinux2014_x86_64.whl (471 kB)\n",
      "Installing collected packages: safetensors, hf-xet, huggingface_hub, timm\n",
      "\u001b[2K   \u001b[90m━━━━━━━━━━━━━━━━━━━━━━━━━━━━━━━━━━━━━━━━\u001b[0m \u001b[32m4/4\u001b[0m [timm][32m3/4\u001b[0m [timm]ngface_hub]\n",
      "\u001b[1A\u001b[2KSuccessfully installed hf-xet-1.1.3 huggingface_hub-0.32.4 safetensors-0.5.3 timm-1.0.15\n"
     ]
    }
   ],
   "source": [
    "!pip install timm"
   ]
  },
  {
   "cell_type": "markdown",
   "id": "f9c91287-0eae-4c02-affb-e7ec782ae4df",
   "metadata": {},
   "source": [
    "The [model](https://arxiv.org/abs/2404.05022) we are going to used in this part has been\n",
    "trained on White Blood Cells images. It:\n",
    "- Uses the Vision Transformer ([ViT](https://arxiv.org/abs/2010.11929)) architecture\n",
    "- Uses [DINOv2](https://github.com/facebookresearch/dinov2) as training framework\n",
    "- Was trained on ~300k images from open-sourced datasets\n",
    "- Contains 4 models of different sizes, ranging from 22M to 1.1B of parameters"
   ]
  },
  {
   "cell_type": "code",
   "execution_count": 167,
   "id": "1a45eb0c-eb40-470d-8e06-d9915601240d",
   "metadata": {},
   "outputs": [
    {
     "name": "stdout",
     "output_type": "stream",
     "text": [
      "Below is the list of the layers contained within our model:\n",
      "\n"
     ]
    },
    {
     "data": {
      "text/plain": [
       "VisionTransformer(\n",
       "  (patch_embed): PatchEmbed(\n",
       "    (proj): Conv2d(3, 384, kernel_size=(14, 14), stride=(14, 14))\n",
       "    (norm): Identity()\n",
       "  )\n",
       "  (pos_drop): Dropout(p=0.0, inplace=False)\n",
       "  (patch_drop): Identity()\n",
       "  (norm_pre): Identity()\n",
       "  (blocks): Sequential(\n",
       "    (0): Block(\n",
       "      (norm1): LayerNorm((384,), eps=1e-06, elementwise_affine=True)\n",
       "      (attn): Attention(\n",
       "        (qkv): Linear(in_features=384, out_features=1152, bias=True)\n",
       "        (q_norm): Identity()\n",
       "        (k_norm): Identity()\n",
       "        (attn_drop): Dropout(p=0.0, inplace=False)\n",
       "        (proj): Linear(in_features=384, out_features=384, bias=True)\n",
       "        (proj_drop): Dropout(p=0.0, inplace=False)\n",
       "      )\n",
       "      (ls1): LayerScale()\n",
       "      (drop_path1): Identity()\n",
       "      (norm2): LayerNorm((384,), eps=1e-06, elementwise_affine=True)\n",
       "      (mlp): Mlp(\n",
       "        (fc1): Linear(in_features=384, out_features=1536, bias=True)\n",
       "        (act): GELU(approximate='none')\n",
       "        (drop1): Dropout(p=0.0, inplace=False)\n",
       "        (norm): Identity()\n",
       "        (fc2): Linear(in_features=1536, out_features=384, bias=True)\n",
       "        (drop2): Dropout(p=0.0, inplace=False)\n",
       "      )\n",
       "      (ls2): LayerScale()\n",
       "      (drop_path2): Identity()\n",
       "    )\n",
       "    (1): Block(\n",
       "      (norm1): LayerNorm((384,), eps=1e-06, elementwise_affine=True)\n",
       "      (attn): Attention(\n",
       "        (qkv): Linear(in_features=384, out_features=1152, bias=True)\n",
       "        (q_norm): Identity()\n",
       "        (k_norm): Identity()\n",
       "        (attn_drop): Dropout(p=0.0, inplace=False)\n",
       "        (proj): Linear(in_features=384, out_features=384, bias=True)\n",
       "        (proj_drop): Dropout(p=0.0, inplace=False)\n",
       "      )\n",
       "      (ls1): LayerScale()\n",
       "      (drop_path1): Identity()\n",
       "      (norm2): LayerNorm((384,), eps=1e-06, elementwise_affine=True)\n",
       "      (mlp): Mlp(\n",
       "        (fc1): Linear(in_features=384, out_features=1536, bias=True)\n",
       "        (act): GELU(approximate='none')\n",
       "        (drop1): Dropout(p=0.0, inplace=False)\n",
       "        (norm): Identity()\n",
       "        (fc2): Linear(in_features=1536, out_features=384, bias=True)\n",
       "        (drop2): Dropout(p=0.0, inplace=False)\n",
       "      )\n",
       "      (ls2): LayerScale()\n",
       "      (drop_path2): Identity()\n",
       "    )\n",
       "    (2): Block(\n",
       "      (norm1): LayerNorm((384,), eps=1e-06, elementwise_affine=True)\n",
       "      (attn): Attention(\n",
       "        (qkv): Linear(in_features=384, out_features=1152, bias=True)\n",
       "        (q_norm): Identity()\n",
       "        (k_norm): Identity()\n",
       "        (attn_drop): Dropout(p=0.0, inplace=False)\n",
       "        (proj): Linear(in_features=384, out_features=384, bias=True)\n",
       "        (proj_drop): Dropout(p=0.0, inplace=False)\n",
       "      )\n",
       "      (ls1): LayerScale()\n",
       "      (drop_path1): Identity()\n",
       "      (norm2): LayerNorm((384,), eps=1e-06, elementwise_affine=True)\n",
       "      (mlp): Mlp(\n",
       "        (fc1): Linear(in_features=384, out_features=1536, bias=True)\n",
       "        (act): GELU(approximate='none')\n",
       "        (drop1): Dropout(p=0.0, inplace=False)\n",
       "        (norm): Identity()\n",
       "        (fc2): Linear(in_features=1536, out_features=384, bias=True)\n",
       "        (drop2): Dropout(p=0.0, inplace=False)\n",
       "      )\n",
       "      (ls2): LayerScale()\n",
       "      (drop_path2): Identity()\n",
       "    )\n",
       "    (3): Block(\n",
       "      (norm1): LayerNorm((384,), eps=1e-06, elementwise_affine=True)\n",
       "      (attn): Attention(\n",
       "        (qkv): Linear(in_features=384, out_features=1152, bias=True)\n",
       "        (q_norm): Identity()\n",
       "        (k_norm): Identity()\n",
       "        (attn_drop): Dropout(p=0.0, inplace=False)\n",
       "        (proj): Linear(in_features=384, out_features=384, bias=True)\n",
       "        (proj_drop): Dropout(p=0.0, inplace=False)\n",
       "      )\n",
       "      (ls1): LayerScale()\n",
       "      (drop_path1): Identity()\n",
       "      (norm2): LayerNorm((384,), eps=1e-06, elementwise_affine=True)\n",
       "      (mlp): Mlp(\n",
       "        (fc1): Linear(in_features=384, out_features=1536, bias=True)\n",
       "        (act): GELU(approximate='none')\n",
       "        (drop1): Dropout(p=0.0, inplace=False)\n",
       "        (norm): Identity()\n",
       "        (fc2): Linear(in_features=1536, out_features=384, bias=True)\n",
       "        (drop2): Dropout(p=0.0, inplace=False)\n",
       "      )\n",
       "      (ls2): LayerScale()\n",
       "      (drop_path2): Identity()\n",
       "    )\n",
       "    (4): Block(\n",
       "      (norm1): LayerNorm((384,), eps=1e-06, elementwise_affine=True)\n",
       "      (attn): Attention(\n",
       "        (qkv): Linear(in_features=384, out_features=1152, bias=True)\n",
       "        (q_norm): Identity()\n",
       "        (k_norm): Identity()\n",
       "        (attn_drop): Dropout(p=0.0, inplace=False)\n",
       "        (proj): Linear(in_features=384, out_features=384, bias=True)\n",
       "        (proj_drop): Dropout(p=0.0, inplace=False)\n",
       "      )\n",
       "      (ls1): LayerScale()\n",
       "      (drop_path1): Identity()\n",
       "      (norm2): LayerNorm((384,), eps=1e-06, elementwise_affine=True)\n",
       "      (mlp): Mlp(\n",
       "        (fc1): Linear(in_features=384, out_features=1536, bias=True)\n",
       "        (act): GELU(approximate='none')\n",
       "        (drop1): Dropout(p=0.0, inplace=False)\n",
       "        (norm): Identity()\n",
       "        (fc2): Linear(in_features=1536, out_features=384, bias=True)\n",
       "        (drop2): Dropout(p=0.0, inplace=False)\n",
       "      )\n",
       "      (ls2): LayerScale()\n",
       "      (drop_path2): Identity()\n",
       "    )\n",
       "    (5): Block(\n",
       "      (norm1): LayerNorm((384,), eps=1e-06, elementwise_affine=True)\n",
       "      (attn): Attention(\n",
       "        (qkv): Linear(in_features=384, out_features=1152, bias=True)\n",
       "        (q_norm): Identity()\n",
       "        (k_norm): Identity()\n",
       "        (attn_drop): Dropout(p=0.0, inplace=False)\n",
       "        (proj): Linear(in_features=384, out_features=384, bias=True)\n",
       "        (proj_drop): Dropout(p=0.0, inplace=False)\n",
       "      )\n",
       "      (ls1): LayerScale()\n",
       "      (drop_path1): Identity()\n",
       "      (norm2): LayerNorm((384,), eps=1e-06, elementwise_affine=True)\n",
       "      (mlp): Mlp(\n",
       "        (fc1): Linear(in_features=384, out_features=1536, bias=True)\n",
       "        (act): GELU(approximate='none')\n",
       "        (drop1): Dropout(p=0.0, inplace=False)\n",
       "        (norm): Identity()\n",
       "        (fc2): Linear(in_features=1536, out_features=384, bias=True)\n",
       "        (drop2): Dropout(p=0.0, inplace=False)\n",
       "      )\n",
       "      (ls2): LayerScale()\n",
       "      (drop_path2): Identity()\n",
       "    )\n",
       "    (6): Block(\n",
       "      (norm1): LayerNorm((384,), eps=1e-06, elementwise_affine=True)\n",
       "      (attn): Attention(\n",
       "        (qkv): Linear(in_features=384, out_features=1152, bias=True)\n",
       "        (q_norm): Identity()\n",
       "        (k_norm): Identity()\n",
       "        (attn_drop): Dropout(p=0.0, inplace=False)\n",
       "        (proj): Linear(in_features=384, out_features=384, bias=True)\n",
       "        (proj_drop): Dropout(p=0.0, inplace=False)\n",
       "      )\n",
       "      (ls1): LayerScale()\n",
       "      (drop_path1): Identity()\n",
       "      (norm2): LayerNorm((384,), eps=1e-06, elementwise_affine=True)\n",
       "      (mlp): Mlp(\n",
       "        (fc1): Linear(in_features=384, out_features=1536, bias=True)\n",
       "        (act): GELU(approximate='none')\n",
       "        (drop1): Dropout(p=0.0, inplace=False)\n",
       "        (norm): Identity()\n",
       "        (fc2): Linear(in_features=1536, out_features=384, bias=True)\n",
       "        (drop2): Dropout(p=0.0, inplace=False)\n",
       "      )\n",
       "      (ls2): LayerScale()\n",
       "      (drop_path2): Identity()\n",
       "    )\n",
       "    (7): Block(\n",
       "      (norm1): LayerNorm((384,), eps=1e-06, elementwise_affine=True)\n",
       "      (attn): Attention(\n",
       "        (qkv): Linear(in_features=384, out_features=1152, bias=True)\n",
       "        (q_norm): Identity()\n",
       "        (k_norm): Identity()\n",
       "        (attn_drop): Dropout(p=0.0, inplace=False)\n",
       "        (proj): Linear(in_features=384, out_features=384, bias=True)\n",
       "        (proj_drop): Dropout(p=0.0, inplace=False)\n",
       "      )\n",
       "      (ls1): LayerScale()\n",
       "      (drop_path1): Identity()\n",
       "      (norm2): LayerNorm((384,), eps=1e-06, elementwise_affine=True)\n",
       "      (mlp): Mlp(\n",
       "        (fc1): Linear(in_features=384, out_features=1536, bias=True)\n",
       "        (act): GELU(approximate='none')\n",
       "        (drop1): Dropout(p=0.0, inplace=False)\n",
       "        (norm): Identity()\n",
       "        (fc2): Linear(in_features=1536, out_features=384, bias=True)\n",
       "        (drop2): Dropout(p=0.0, inplace=False)\n",
       "      )\n",
       "      (ls2): LayerScale()\n",
       "      (drop_path2): Identity()\n",
       "    )\n",
       "    (8): Block(\n",
       "      (norm1): LayerNorm((384,), eps=1e-06, elementwise_affine=True)\n",
       "      (attn): Attention(\n",
       "        (qkv): Linear(in_features=384, out_features=1152, bias=True)\n",
       "        (q_norm): Identity()\n",
       "        (k_norm): Identity()\n",
       "        (attn_drop): Dropout(p=0.0, inplace=False)\n",
       "        (proj): Linear(in_features=384, out_features=384, bias=True)\n",
       "        (proj_drop): Dropout(p=0.0, inplace=False)\n",
       "      )\n",
       "      (ls1): LayerScale()\n",
       "      (drop_path1): Identity()\n",
       "      (norm2): LayerNorm((384,), eps=1e-06, elementwise_affine=True)\n",
       "      (mlp): Mlp(\n",
       "        (fc1): Linear(in_features=384, out_features=1536, bias=True)\n",
       "        (act): GELU(approximate='none')\n",
       "        (drop1): Dropout(p=0.0, inplace=False)\n",
       "        (norm): Identity()\n",
       "        (fc2): Linear(in_features=1536, out_features=384, bias=True)\n",
       "        (drop2): Dropout(p=0.0, inplace=False)\n",
       "      )\n",
       "      (ls2): LayerScale()\n",
       "      (drop_path2): Identity()\n",
       "    )\n",
       "    (9): Block(\n",
       "      (norm1): LayerNorm((384,), eps=1e-06, elementwise_affine=True)\n",
       "      (attn): Attention(\n",
       "        (qkv): Linear(in_features=384, out_features=1152, bias=True)\n",
       "        (q_norm): Identity()\n",
       "        (k_norm): Identity()\n",
       "        (attn_drop): Dropout(p=0.0, inplace=False)\n",
       "        (proj): Linear(in_features=384, out_features=384, bias=True)\n",
       "        (proj_drop): Dropout(p=0.0, inplace=False)\n",
       "      )\n",
       "      (ls1): LayerScale()\n",
       "      (drop_path1): Identity()\n",
       "      (norm2): LayerNorm((384,), eps=1e-06, elementwise_affine=True)\n",
       "      (mlp): Mlp(\n",
       "        (fc1): Linear(in_features=384, out_features=1536, bias=True)\n",
       "        (act): GELU(approximate='none')\n",
       "        (drop1): Dropout(p=0.0, inplace=False)\n",
       "        (norm): Identity()\n",
       "        (fc2): Linear(in_features=1536, out_features=384, bias=True)\n",
       "        (drop2): Dropout(p=0.0, inplace=False)\n",
       "      )\n",
       "      (ls2): LayerScale()\n",
       "      (drop_path2): Identity()\n",
       "    )\n",
       "    (10): Block(\n",
       "      (norm1): LayerNorm((384,), eps=1e-06, elementwise_affine=True)\n",
       "      (attn): Attention(\n",
       "        (qkv): Linear(in_features=384, out_features=1152, bias=True)\n",
       "        (q_norm): Identity()\n",
       "        (k_norm): Identity()\n",
       "        (attn_drop): Dropout(p=0.0, inplace=False)\n",
       "        (proj): Linear(in_features=384, out_features=384, bias=True)\n",
       "        (proj_drop): Dropout(p=0.0, inplace=False)\n",
       "      )\n",
       "      (ls1): LayerScale()\n",
       "      (drop_path1): Identity()\n",
       "      (norm2): LayerNorm((384,), eps=1e-06, elementwise_affine=True)\n",
       "      (mlp): Mlp(\n",
       "        (fc1): Linear(in_features=384, out_features=1536, bias=True)\n",
       "        (act): GELU(approximate='none')\n",
       "        (drop1): Dropout(p=0.0, inplace=False)\n",
       "        (norm): Identity()\n",
       "        (fc2): Linear(in_features=1536, out_features=384, bias=True)\n",
       "        (drop2): Dropout(p=0.0, inplace=False)\n",
       "      )\n",
       "      (ls2): LayerScale()\n",
       "      (drop_path2): Identity()\n",
       "    )\n",
       "    (11): Block(\n",
       "      (norm1): LayerNorm((384,), eps=1e-06, elementwise_affine=True)\n",
       "      (attn): Attention(\n",
       "        (qkv): Linear(in_features=384, out_features=1152, bias=True)\n",
       "        (q_norm): Identity()\n",
       "        (k_norm): Identity()\n",
       "        (attn_drop): Dropout(p=0.0, inplace=False)\n",
       "        (proj): Linear(in_features=384, out_features=384, bias=True)\n",
       "        (proj_drop): Dropout(p=0.0, inplace=False)\n",
       "      )\n",
       "      (ls1): LayerScale()\n",
       "      (drop_path1): Identity()\n",
       "      (norm2): LayerNorm((384,), eps=1e-06, elementwise_affine=True)\n",
       "      (mlp): Mlp(\n",
       "        (fc1): Linear(in_features=384, out_features=1536, bias=True)\n",
       "        (act): GELU(approximate='none')\n",
       "        (drop1): Dropout(p=0.0, inplace=False)\n",
       "        (norm): Identity()\n",
       "        (fc2): Linear(in_features=1536, out_features=384, bias=True)\n",
       "        (drop2): Dropout(p=0.0, inplace=False)\n",
       "      )\n",
       "      (ls2): LayerScale()\n",
       "      (drop_path2): Identity()\n",
       "    )\n",
       "  )\n",
       "  (norm): LayerNorm((384,), eps=1e-06, elementwise_affine=True)\n",
       "  (fc_norm): Identity()\n",
       "  (head_drop): Dropout(p=0.0, inplace=False)\n",
       "  (head): Identity()\n",
       ")"
      ]
     },
     "execution_count": 167,
     "metadata": {},
     "output_type": "execute_result"
    }
   ],
   "source": [
    "import timm\n",
    "\n",
    "# Load model from the hub\n",
    "model = timm.create_model(\n",
    "  model_name=\"hf-hub:1aurent/vit_small_patch14_224.dinobloom\", # you can change the size of the loaded model here\n",
    "  pretrained=True,\n",
    ").eval()\n",
    "\n",
    "# Get model specific transforms (normalization, resize)\n",
    "data_config = timm.data.resolve_model_data_config(model)\n",
    "transform = timm.data.create_transform(**data_config, is_training=False)\n",
    "\n",
    "print(\"Below is the list of the layers contained within our model:\\n\")\n",
    "model"
   ]
  },
  {
   "cell_type": "markdown",
   "id": "d4c6f547-5a87-4212-a6b7-be14ada7ddb8",
   "metadata": {},
   "source": [
    "Here we can see the architecture of the model that we use, which is made of 12 blocks, each having:\n",
    "- An Attention layer\n",
    "- A Mlp layer with one hidden layer\n",
    "- Normalizing and Scaling layers in between\n",
    "\n",
    "> Can you find the dimension of the embeddings of the model that you use ?"
   ]
  },
  {
   "cell_type": "code",
   "execution_count": null,
   "id": "d3e83140-1ed9-4085-a10c-b19d46e05068",
   "metadata": {},
   "outputs": [],
   "source": []
  },
  {
   "cell_type": "markdown",
   "id": "56ac339f-da81-40b8-ad10-1ba3d2a295b5",
   "metadata": {},
   "source": [
    "### Make the dataset\n",
    "\n",
    "Calculating the embeddings can be compute intensive, as we use transformer models\n",
    "having huge amounts of parameters.  \n",
    "However we only need to do that once, as we use them as mathematical objects, and\n",
    "**we do not modify** the foumdation model afterwards.  \n",
    "\n",
    "To do that we will create a Dataset object that will contain the embeddings calculated\n",
    "for a model on a Dataset (the same as the one we used before)."
   ]
  },
  {
   "cell_type": "code",
   "execution_count": 128,
   "id": "9f8370fc-3d40-43c9-a289-9faec9bfc746",
   "metadata": {},
   "outputs": [],
   "source": [
    "# We are going to make a new dataset object in order to calculate the embeddings of the images.\n",
    "# This allow to calculate once the embeddings and then reuse them for later applications\n",
    "\n",
    "class EmbeddingDataset(Dataset):\n",
    "    def __init__(self, dataset, model, transform, device=torch.device('cuda')):\n",
    "        self.device = device\n",
    "        self.transform = transform\n",
    "        self.embeddings, self.labels = self._create_vectors(model, dataset)\n",
    "\n",
    "    def _create_vectors(self, model, dataset):\n",
    "        embeddings = []\n",
    "        label_list = []\n",
    "        model.to(self.device)\n",
    "        dataloader = DataLoader(dataset, batch_size=8)\n",
    "\n",
    "        # Loop over the data\n",
    "        for batch in tqdm(dataloader):\n",
    "            # Load and transform the images\n",
    "            images, labels = batch\n",
    "            if self.transform:\n",
    "                images = self.transform(images)\n",
    "            \n",
    "            images = images.to(self.device)\n",
    "\n",
    "            # Make the embeddings from the batch\n",
    "            with torch.no_grad():\n",
    "                embs = model(images).to(\"cpu\")\n",
    "            \n",
    "            embeddings.append(embs)\n",
    "            label_list.append(labels)\n",
    "\n",
    "        # Return the calculated embeddings\n",
    "        embeddings = torch.cat(embeddings, dim=0)\n",
    "        label_list = torch.cat(label_list, dim=0)\n",
    "        return embeddings, label_list\n",
    "\n",
    "    def __len__(self):\n",
    "        return len(self.embeddings)\n",
    "\n",
    "    def __getitem__(self, idx):\n",
    "        return self.embeddings[idx, :], self.labels[idx]"
   ]
  },
  {
   "cell_type": "code",
   "execution_count": 163,
   "id": "e73166a8-d82a-40e5-be21-6c968b37c555",
   "metadata": {},
   "outputs": [
    {
     "name": "stderr",
     "output_type": "stream",
     "text": [
      "100%|████████████████████████████████████████████████| 1495/1495 [01:35<00:00, 15.59it/s]\n",
      "100%|██████████████████████████████████████████████████| 428/428 [00:27<00:00, 15.62it/s]"
     ]
    },
    {
     "name": "stdout",
     "output_type": "stream",
     "text": [
      "torch.Size([32, 384])\n"
     ]
    },
    {
     "name": "stderr",
     "output_type": "stream",
     "text": [
      "\n"
     ]
    }
   ],
   "source": [
    "# Make the embedding dataset and test shapes\n",
    "emb_train = EmbeddingDataset(training_dataset, model, transform)\n",
    "emb_test = EmbeddingDataset(testing_dataset, model, transform)\n",
    "\n",
    "emb_t_loader = DataLoader(embedding_train, batch_size=32)\n",
    "for emb, lab in emb_t_loader:\n",
    "    print(emb.shape)\n",
    "    break"
   ]
  },
  {
   "cell_type": "markdown",
   "id": "4b3f7db7-2229-4e10-a464-6527a985fde5",
   "metadata": {},
   "source": [
    "### Probe the embeddings quality\n",
    "\n",
    "Now that we have an easy access to the model embeddings, we can test their quality on the dataset\n",
    "that we have used before.\n",
    "\n",
    "Popular technics are:\n",
    "- k-[Nearest-Neighbour](https://scikit-learn.org/stable/modules/generated/sklearn.neighbors.KNeighborsClassifier.html#sklearn.neighbors.KNeighborsClassifier) (k-NN), with k being usually 1 & 20\n",
    "- [Linear Probing](https://scikit-learn.org/stable/modules/generated/sklearn.linear_model.LogisticRegression.html) (ie fitting a linear classifier on the embeddings)\n",
    "- [Multi-Layer Perceptron](https://scikit-learn.org/stable/modules/generated/sklearn.neural_network.MLPClassifier.html#sklearn.neural_network.MLPClassifier) (fitting a MLP on the embeddings)"
   ]
  },
  {
   "cell_type": "markdown",
   "id": "b252d016-ddec-45fc-847f-3935ef85a41e",
   "metadata": {},
   "source": [
    "Implement here the evaluation of the above mentionned techniques!  \n",
    "\n",
    "> Tip: You can use the sklearn library for k-NN and Linear probing"
   ]
  },
  {
   "cell_type": "code",
   "execution_count": 166,
   "id": "204bf7cf-422f-437d-a025-ffbdd389b0c5",
   "metadata": {},
   "outputs": [
    {
     "name": "stdout",
     "output_type": "stream",
     "text": [
      "1-NN evaluation:\n",
      "\n",
      "                      precision    recall  f1-score   support\n",
      "\n",
      "            basophil       0.97      0.99      0.98       244\n",
      "          eosinophil       0.99      1.00      0.99       624\n",
      "        erythroblast       1.00      0.96      0.98       311\n",
      "immature granulocyte       0.93      0.92      0.92       579\n",
      "          lymphocyte       0.97      0.98      0.98       243\n",
      "            monocyte       0.93      0.95      0.94       284\n",
      "          neutrophil       0.96      0.96      0.96       666\n",
      "            platelet       1.00      1.00      1.00       470\n",
      "\n",
      "            accuracy                           0.97      3421\n",
      "           macro avg       0.97      0.97      0.97      3421\n",
      "        weighted avg       0.97      0.97      0.97      3421\n",
      "\n",
      "---------------------------------------------------------------------------\n",
      "\n",
      "20-NN evaluation:\n",
      "\n",
      "                      precision    recall  f1-score   support\n",
      "\n",
      "            basophil       0.98      0.99      0.98       244\n",
      "          eosinophil       0.99      1.00      0.99       624\n",
      "        erythroblast       1.00      0.94      0.97       311\n",
      "immature granulocyte       0.95      0.96      0.95       579\n",
      "          lymphocyte       0.97      0.98      0.97       243\n",
      "            monocyte       0.95      0.96      0.96       284\n",
      "          neutrophil       0.98      0.97      0.98       666\n",
      "            platelet       0.99      1.00      0.99       470\n",
      "\n",
      "            accuracy                           0.98      3421\n",
      "           macro avg       0.97      0.97      0.97      3421\n",
      "        weighted avg       0.98      0.98      0.98      3421\n",
      "\n",
      "---------------------------------------------------------------------------\n",
      "\n",
      "Linear probing:\n",
      "\n",
      "                      precision    recall  f1-score   support\n",
      "\n",
      "            basophil       0.98      1.00      0.99       244\n",
      "          eosinophil       1.00      1.00      1.00       624\n",
      "        erythroblast       1.00      0.98      0.99       311\n",
      "immature granulocyte       0.97      0.97      0.97       579\n",
      "          lymphocyte       0.99      0.99      0.99       243\n",
      "            monocyte       0.99      0.98      0.98       284\n",
      "          neutrophil       0.98      0.98      0.98       666\n",
      "            platelet       1.00      1.00      1.00       470\n",
      "\n",
      "            accuracy                           0.99      3421\n",
      "           macro avg       0.99      0.99      0.99      3421\n",
      "        weighted avg       0.99      0.99      0.99      3421\n",
      "\n",
      "---------------------------------------------------------------------------\n",
      "\n",
      "MLP trained:\n",
      "\n"
     ]
    },
    {
     "name": "stderr",
     "output_type": "stream",
     "text": [
      "100%|████████████████████████████████████████████████████| 10/10 [00:08<00:00,  1.16it/s]"
     ]
    },
    {
     "name": "stdout",
     "output_type": "stream",
     "text": [
      "                      precision    recall  f1-score   support\n",
      "\n",
      "            basophil       0.99      0.99      0.99       244\n",
      "          eosinophil       1.00      1.00      1.00       624\n",
      "        erythroblast       1.00      0.96      0.98       311\n",
      "immature granulocyte       0.97      0.95      0.96       579\n",
      "          lymphocyte       0.97      1.00      0.99       243\n",
      "            monocyte       0.98      0.98      0.98       284\n",
      "          neutrophil       0.96      0.97      0.97       666\n",
      "            platelet       0.99      1.00      1.00       470\n",
      "\n",
      "            accuracy                           0.98      3421\n",
      "           macro avg       0.98      0.98      0.98      3421\n",
      "        weighted avg       0.98      0.98      0.98      3421\n",
      "\n"
     ]
    },
    {
     "name": "stderr",
     "output_type": "stream",
     "text": [
      "\n"
     ]
    }
   ],
   "source": [
    "# %load ../src/embedding_evaluation.py\n",
    "import numpy as np\n",
    "import torch.nn as nn\n",
    "import torch.optim as optim\n",
    "\n",
    "from typing import Callable, Optional\n",
    "from warnings import filterwarnings\n",
    "\n",
    "from sklearn.linear_model import LogisticRegression\n",
    "from sklearn.metrics import classification_report\n",
    "from sklearn.neighbors import KNeighborsClassifier\n",
    "from sklearn.neural_network import MLPClassifier\n",
    "from tqdm import tqdm\n",
    "\n",
    "filterwarnings(\"ignore\") \n",
    "\n",
    "def k_nearest_neighbor_eval(train_embedding, val_embedding, k=1, target_names=names):\n",
    "    # Initialize the classifier\n",
    "    cls = KNeighborsClassifier(n_neighbors=k)\n",
    "\n",
    "    # Unpack the embeddings & labels\n",
    "    train_array = np.array([emb for emb, _ in train_embedding])\n",
    "    train_labels = np.array([lab for _, lab in train_embedding])\n",
    "\n",
    "    val_array = np.array([emb for emb, _ in val_embedding])\n",
    "    val_labels = np.array([lab for _, lab in val_embedding])\n",
    "    \n",
    "    # Fit the model\n",
    "    cls.fit(train_array, train_labels)\n",
    "\n",
    "    # Make the predictions\n",
    "    preds = cls.predict(val_array)\n",
    "    print(classification_report(val_labels, preds, target_names=target_names))\n",
    "\n",
    "    return preds\n",
    "\n",
    "def linear_probing_eval(train_embedding, val_embedding, target_names=names):\n",
    "    # Initialize the classifier\n",
    "    cls = LogisticRegression()\n",
    "\n",
    "    # Unpack the embeddings & labels\n",
    "    train_array = np.array([emb for emb, _ in train_embedding])\n",
    "    train_labels = np.array([lab for _, lab in train_embedding])\n",
    "\n",
    "    val_array = np.array([emb for emb, _ in val_embedding])\n",
    "    val_labels = np.array([lab for _, lab in val_embedding])\n",
    "\n",
    "    # Fit the model\n",
    "    cls.fit(train_array, train_labels)\n",
    "\n",
    "    # Make the predictions\n",
    "    preds = cls.predict(val_array)\n",
    "    print(classification_report(val_labels, preds, target_names=target_names))\n",
    "\n",
    "    return preds\n",
    "\n",
    "class Mlp(nn.Module):\n",
    "    def __init__(\n",
    "        self,\n",
    "        in_features: int,\n",
    "        hidden_features: Optional[int] = None,\n",
    "        out_features: Optional[int] = None,\n",
    "        act_layer: Callable[..., nn.Module] = nn.GELU,\n",
    "        drop: float = 0.0,\n",
    "        bias: bool = True,\n",
    "    ) -> None:\n",
    "        super().__init__()\n",
    "        out_features = out_features or in_features\n",
    "        hidden_features = hidden_features or in_features\n",
    "        self.fc1 = nn.Linear(in_features, hidden_features, bias=bias)\n",
    "        self.act = act_layer()\n",
    "        self.fc2 = nn.Linear(hidden_features, out_features, bias=bias)\n",
    "        self.drop = nn.Dropout(drop)\n",
    "\n",
    "    def forward(self, x):\n",
    "        x = self.fc1(x)\n",
    "        x = self.act(x)\n",
    "        x = self.drop(x)\n",
    "        x = self.fc2(x)\n",
    "        x = self.drop(x)\n",
    "        return x\n",
    "\n",
    "def mlp_eval(train_embedding, val_embedding, embedding_size, num_classes=8, target_names=names):\n",
    "    # Unpack the embeddings & labels\n",
    "    train_loader = DataLoader(train_embedding, batch_size=64)\n",
    "    val_loader = DataLoader(val_embedding, batch_size=64)\n",
    "    \n",
    "    # Initialize the classifier\n",
    "    hidden_size = int(embedding_size * 4)\n",
    "    cls = Mlp(\n",
    "        in_features=embedding_size,\n",
    "        hidden_features=hidden_size,\n",
    "        out_features=num_classes,\n",
    "    )\n",
    "\n",
    "    # Make the fitting functions\n",
    "    criterion = nn.CrossEntropyLoss()\n",
    "    optimizer = optim.Adam(cls.parameters())\n",
    "\n",
    "    # Fit the classifier\n",
    "    n_epochs=10\n",
    "    for epoch in tqdm(range(n_epochs)):\n",
    "        cls.train()\n",
    "        for emb, labels in train_loader:\n",
    "            optimizer.zero_grad()\n",
    "            outputs = cls(emb)\n",
    "            labels = labels.squeeze(1)\n",
    "\n",
    "            loss = criterion(outputs, labels)\n",
    "            loss.backward()\n",
    "            optimizer.step()\n",
    "\n",
    "    # Make the predictions\n",
    "    label_val, preds_val = [], []\n",
    "    for emb, labels in val_loader:\n",
    "        outputs = cls(emb)\n",
    "        preds = outputs.argmax(dim=1)\n",
    "\n",
    "        label_val.extend(labels.to('cpu').tolist())\n",
    "        preds_val.extend(preds.to('cpu').tolist())\n",
    "\n",
    "    label_array = np.array(label_val)\n",
    "    preds_array = np.array(preds_val)\n",
    "\n",
    "    print(classification_report(label_array, preds_array, target_names=target_names))\n",
    "\n",
    "    return preds_array\n",
    "\n",
    "print('1-NN evaluation:\\n')\n",
    "_ = k_nearest_neighbor_eval(emb_train, emb_test, k=1)\n",
    "print('-' * 75)\n",
    "\n",
    "print('\\n20-NN evaluation:\\n')\n",
    "_ = k_nearest_neighbor_eval(emb_train, emb_test, k=20)\n",
    "print('-' * 75)\n",
    "\n",
    "print('\\nLinear probing:\\n')\n",
    "_ = linear_probing_eval(emb_train, emb_test)\n",
    "print('-' * 75)\n",
    "\n",
    "print('\\nMLP trained:\\n')\n",
    "_ = mlp_eval(emb_train, emb_test, model.embed_dim)"
   ]
  },
  {
   "cell_type": "code",
   "execution_count": null,
   "id": "ad7a98aa-7d4f-4fc0-bb6c-61acd9d30a3f",
   "metadata": {},
   "outputs": [],
   "source": []
  }
 ],
 "metadata": {
  "kernelspec": {
   "display_name": "Python 3 (ipykernel)",
   "language": "python",
   "name": "python3"
  },
  "language_info": {
   "codemirror_mode": {
    "name": "ipython",
    "version": 3
   },
   "file_extension": ".py",
   "mimetype": "text/x-python",
   "name": "python",
   "nbconvert_exporter": "python",
   "pygments_lexer": "ipython3",
   "version": "3.10.17"
  }
 },
 "nbformat": 4,
 "nbformat_minor": 5
}
